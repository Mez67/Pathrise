{
 "cells": [
  {
   "cell_type": "code",
   "execution_count": null,
   "id": "cd8e3395",
   "metadata": {},
   "outputs": [],
   "source": [
    "#سوال اول\n",
    "#پیش بینی شود که ایا شخص دوره 14 روزه این شرکت را پاس میکند یا خیر؟\n",
    "#پیش بینی شود کسی که دوره 14 روزه را پاس کرده است ایا استخدام شده است یا خیر؟"
   ]
  },
  {
   "cell_type": "code",
   "execution_count": 1,
   "id": "b94fa7e9",
   "metadata": {},
   "outputs": [],
   "source": [
    "import pandas as pd\n",
    "import seaborn as sns\n",
    "import matplotlib.pyplot as plt\n",
    "import numpy as np\n",
    "%matplotlib inline"
   ]
  },
  {
   "cell_type": "code",
   "execution_count": 2,
   "id": "d1ac669a",
   "metadata": {},
   "outputs": [],
   "source": [
    "df = pd.read_excel(\"Data_Pathrise.xlsx\")"
   ]
  },
  {
   "cell_type": "code",
   "execution_count": 3,
   "id": "b30dd6d3",
   "metadata": {},
   "outputs": [
    {
     "name": "stdout",
     "output_type": "stream",
     "text": [
      "<class 'pandas.core.frame.DataFrame'>\n",
      "RangeIndex: 2544 entries, 0 to 2543\n",
      "Data columns (total 16 columns):\n",
      " #   Column                       Non-Null Count  Dtype  \n",
      "---  ------                       --------------  -----  \n",
      " 0   id                           2544 non-null   int64  \n",
      " 1   pathrise_status              2544 non-null   object \n",
      " 2   primary_track                2544 non-null   object \n",
      " 3   cohort_tag                   2536 non-null   object \n",
      " 4   program_duration_days        1928 non-null   float64\n",
      " 5   placed                       2544 non-null   int64  \n",
      " 6   employment_status            2315 non-null   object \n",
      " 7   highest_level_of_education   2486 non-null   object \n",
      " 8   length_of_job_search         2470 non-null   object \n",
      " 9   biggest_challenge_in_search  2520 non-null   object \n",
      " 10  professional_experience      2322 non-null   object \n",
      " 11  work_authorization_status    2260 non-null   object \n",
      " 12  number_of_interviews         2326 non-null   float64\n",
      " 13  number_of_applications       2544 non-null   int64  \n",
      " 14  gender                       2052 non-null   object \n",
      " 15  race                         2526 non-null   object \n",
      "dtypes: float64(2), int64(3), object(11)\n",
      "memory usage: 318.1+ KB\n"
     ]
    }
   ],
   "source": [
    "df.info()"
   ]
  },
  {
   "cell_type": "code",
   "execution_count": 4,
   "id": "73b9b24e",
   "metadata": {},
   "outputs": [],
   "source": [
    "#y : درصد متغیر نسبت به تعداد کل null ها \n",
    "# درصد متغیر نسبت به کل دیتا\n",
    "def percents(x,y):\n",
    "    a = x/y*100\n",
    "    return a"
   ]
  },
  {
   "cell_type": "code",
   "execution_count": 5,
   "id": "deab82bf",
   "metadata": {},
   "outputs": [],
   "source": [
    "df.drop([\"id\",\"cohort_tag\"],axis=1,inplace=True)"
   ]
  },
  {
   "cell_type": "code",
   "execution_count": 6,
   "id": "355c4c8f",
   "metadata": {},
   "outputs": [],
   "source": [
    "df['program_duration_days'].replace(np.nan,0,inplace=True)"
   ]
  },
  {
   "cell_type": "code",
   "execution_count": 7,
   "id": "ac60c5b5",
   "metadata": {},
   "outputs": [],
   "source": [
    "df['highest_level_of_education'].replace(np.nan,\"Bachelor's Degree\",inplace=True)"
   ]
  },
  {
   "cell_type": "code",
   "execution_count": 8,
   "id": "363fbe54",
   "metadata": {},
   "outputs": [],
   "source": [
    "df['biggest_challenge_in_search'].replace(np.nan,\"Hearing back on my applications\",inplace=True)"
   ]
  },
  {
   "cell_type": "code",
   "execution_count": 9,
   "id": "af552ac1",
   "metadata": {},
   "outputs": [],
   "source": [
    "df['work_authorization_status'].replace(np.nan,\"Citizen\",inplace=True)"
   ]
  },
  {
   "cell_type": "code",
   "execution_count": 10,
   "id": "5a1b4364",
   "metadata": {},
   "outputs": [],
   "source": [
    "df.drop(df.loc[(df['pathrise_status']=='Placed') & (df['program_duration_days'] < 14)].index,inplace=True)"
   ]
  },
  {
   "cell_type": "code",
   "execution_count": 11,
   "id": "7e12b0cf",
   "metadata": {},
   "outputs": [],
   "source": [
    "df.drop(df.loc[(df['pathrise_status']=='Withdrawn') & (df['program_duration_days'] < 14)].index,inplace=True)"
   ]
  },
  {
   "cell_type": "code",
   "execution_count": 12,
   "id": "5ff1fab9",
   "metadata": {},
   "outputs": [],
   "source": [
    "df['pathrise_status'].replace(['Withdrawn (Trial)','Closed Lost','MIA','Deferred','Break','Active'],\"0\",inplace=True)"
   ]
  },
  {
   "cell_type": "code",
   "execution_count": 13,
   "id": "4205cbb4",
   "metadata": {},
   "outputs": [],
   "source": [
    "df['pathrise_status'].replace(['Withdrawn','Withdrawn','Withdrawn (Failed)','Withdrawn (Trial)','Placed'],\"1\",inplace=True)"
   ]
  },
  {
   "cell_type": "code",
   "execution_count": 320,
   "id": "9845417e",
   "metadata": {},
   "outputs": [],
   "source": [
    "#####\n",
    "#تا اینجا اوکی شده\n",
    "####"
   ]
  },
  {
   "cell_type": "code",
   "execution_count": 14,
   "id": "32a54975",
   "metadata": {},
   "outputs": [
    {
     "name": "stdout",
     "output_type": "stream",
     "text": [
      "<class 'pandas.core.frame.DataFrame'>\n",
      "Int64Index: 2504 entries, 0 to 2543\n",
      "Data columns (total 14 columns):\n",
      " #   Column                       Non-Null Count  Dtype  \n",
      "---  ------                       --------------  -----  \n",
      " 0   pathrise_status              2504 non-null   object \n",
      " 1   primary_track                2504 non-null   object \n",
      " 2   program_duration_days        2504 non-null   float64\n",
      " 3   placed                       2504 non-null   int64  \n",
      " 4   employment_status            2281 non-null   object \n",
      " 5   highest_level_of_education   2504 non-null   object \n",
      " 6   length_of_job_search         2431 non-null   object \n",
      " 7   biggest_challenge_in_search  2504 non-null   object \n",
      " 8   professional_experience      2284 non-null   object \n",
      " 9   work_authorization_status    2504 non-null   object \n",
      " 10  number_of_interviews         2293 non-null   float64\n",
      " 11  number_of_applications       2504 non-null   int64  \n",
      " 12  gender                       2022 non-null   object \n",
      " 13  race                         2488 non-null   object \n",
      "dtypes: float64(2), int64(2), object(10)\n",
      "memory usage: 293.4+ KB\n"
     ]
    }
   ],
   "source": [
    "df.info()"
   ]
  },
  {
   "cell_type": "code",
   "execution_count": 15,
   "id": "ac304822",
   "metadata": {},
   "outputs": [],
   "source": [
    "df['length_of_job_search'].replace(np.nan,\"1-2 months\",inplace=True)"
   ]
  },
  {
   "cell_type": "code",
   "execution_count": 16,
   "id": "5fc44fc3",
   "metadata": {},
   "outputs": [],
   "source": [
    "df['work_authorization_status'][(df['program_duration_days'] > 14)].replace(np.nan,\"Citizen\",inplace=True)"
   ]
  },
  {
   "cell_type": "code",
   "execution_count": 17,
   "id": "7064c5b7",
   "metadata": {},
   "outputs": [],
   "source": [
    "df['number_of_interviews'].replace(np.nan,2,inplace=True)"
   ]
  },
  {
   "cell_type": "code",
   "execution_count": 18,
   "id": "9ff47ccc",
   "metadata": {},
   "outputs": [],
   "source": [
    "df['race'].replace(np.nan,\"East Asian or Asian American\",inplace=True)"
   ]
  },
  {
   "cell_type": "code",
   "execution_count": 398,
   "id": "a8178d6d",
   "metadata": {},
   "outputs": [],
   "source": [
    "#df['employment_status '].value_counts()"
   ]
  },
  {
   "cell_type": "code",
   "execution_count": 399,
   "id": "4e532a2e",
   "metadata": {},
   "outputs": [],
   "source": [
    "#df['professional_experience'].value_counts()"
   ]
  },
  {
   "cell_type": "code",
   "execution_count": 400,
   "id": "e341eff3",
   "metadata": {},
   "outputs": [],
   "source": [
    "#df['professional_experience'].value_counts()"
   ]
  },
  {
   "cell_type": "code",
   "execution_count": 19,
   "id": "59f8e5bc",
   "metadata": {},
   "outputs": [],
   "source": [
    "nEmpty = df['professional_experience'].isnull().sum()"
   ]
  },
  {
   "cell_type": "code",
   "execution_count": 20,
   "id": "0ff89615",
   "metadata": {},
   "outputs": [
    {
     "data": {
      "text/plain": [
       "83.56589147286823"
      ]
     },
     "execution_count": 20,
     "metadata": {},
     "output_type": "execute_result"
    }
   ],
   "source": [
    "#1-2 years\n",
    "n1 = (percents(882,2322)*nEmpty)/100\n",
    "n1"
   ]
  },
  {
   "cell_type": "code",
   "execution_count": 22,
   "id": "be775feb",
   "metadata": {},
   "outputs": [
    {
     "data": {
      "text/plain": [
       "58.55297157622739"
      ]
     },
     "execution_count": 22,
     "metadata": {},
     "output_type": "execute_result"
    }
   ],
   "source": [
    "#Less than one year\n",
    "n2 = (percents(618,2322)*nEmpty)/100\n",
    "n2"
   ]
  },
  {
   "cell_type": "code",
   "execution_count": 23,
   "id": "03f6c8c1",
   "metadata": {},
   "outputs": [
    {
     "data": {
      "text/plain": [
       "52.86821705426357"
      ]
     },
     "execution_count": 23,
     "metadata": {},
     "output_type": "execute_result"
    }
   ],
   "source": [
    "#3-4 years\n",
    "n3 = (percents(558,2322)*nEmpty)/100\n",
    "n3"
   ]
  },
  {
   "cell_type": "code",
   "execution_count": 24,
   "id": "1317b8dc",
   "metadata": {},
   "outputs": [
    {
     "data": {
      "text/plain": [
       "25.012919896640824"
      ]
     },
     "execution_count": 24,
     "metadata": {},
     "output_type": "execute_result"
    }
   ],
   "source": [
    "#5+ years\n",
    "n4 = (percents(264,2322)*nEmpty)/100\n",
    "n4"
   ]
  },
  {
   "cell_type": "code",
   "execution_count": 25,
   "id": "14cb0602",
   "metadata": {},
   "outputs": [],
   "source": [
    "#define filling function for professional_experience missing value\n",
    "\n",
    "\n",
    "Professional_experience = []\n",
    "def fillNull(n1,n2,n3,n4,lI):\n",
    "    j = 0\n",
    "    for i in lI:\n",
    "        if i is np.nan:\n",
    "            if j <= n1:\n",
    "               Professional_experience.append('1-2 years')\n",
    "            elif n1< j <= n1+n2:\n",
    "                Professional_experience.append('Less than one year')\n",
    "            elif n1+n2 < j <= n1+n2+n3:\n",
    "                Professional_experience.append('3-4 years')\n",
    "            elif n1+n2+n3 < j <= n1+n2+n3+n4+1:\n",
    "                Professional_experience.append('5+ years')\n",
    "            j += 1\n",
    "        else:\n",
    "            Professional_experience.append(i)\n",
    "            \n",
    "fillNull(n1,n2,n3,n4,df['professional_experience'])\n",
    "    "
   ]
  },
  {
   "cell_type": "code",
   "execution_count": 26,
   "id": "fc543846",
   "metadata": {},
   "outputs": [
    {
     "data": {
      "text/plain": [
       "2504"
      ]
     },
     "execution_count": 26,
     "metadata": {},
     "output_type": "execute_result"
    }
   ],
   "source": [
    "len(Professional_experience)"
   ]
  },
  {
   "cell_type": "code",
   "execution_count": 27,
   "id": "04a9916e",
   "metadata": {},
   "outputs": [],
   "source": [
    "data = df"
   ]
  },
  {
   "cell_type": "code",
   "execution_count": 28,
   "id": "2082e5ed",
   "metadata": {},
   "outputs": [],
   "source": [
    "idx = 0\n",
    "new_col = Professional_experience  \n",
    "data.insert(loc=idx, column='Professional_experience', value=new_col)"
   ]
  },
  {
   "cell_type": "code",
   "execution_count": 29,
   "id": "447da5a5",
   "metadata": {},
   "outputs": [
    {
     "data": {
      "text/plain": [
       "Student               759\n",
       "Unemployed            654\n",
       "Employed Full-Time    431\n",
       "Employed Part-Time    269\n",
       "Contractor            168\n",
       "Name: employment_status , dtype: int64"
      ]
     },
     "execution_count": 29,
     "metadata": {},
     "output_type": "execute_result"
    }
   ],
   "source": [
    "df['employment_status '].value_counts()"
   ]
  },
  {
   "cell_type": "code",
   "execution_count": 30,
   "id": "f2785681",
   "metadata": {},
   "outputs": [],
   "source": [
    "nEmpty_employment_status = df['employment_status '].isnull().sum()"
   ]
  },
  {
   "cell_type": "code",
   "execution_count": 31,
   "id": "7029e565",
   "metadata": {},
   "outputs": [
    {
     "data": {
      "text/plain": [
       "74"
      ]
     },
     "execution_count": 31,
     "metadata": {},
     "output_type": "execute_result"
    }
   ],
   "source": [
    "#student\n",
    "s1 = int((percents(775,2315)*nEmpty_employment_status)/100)\n",
    "s1"
   ]
  },
  {
   "cell_type": "code",
   "execution_count": 32,
   "id": "3efd25a0",
   "metadata": {},
   "outputs": [
    {
     "data": {
      "text/plain": [
       "64"
      ]
     },
     "execution_count": 32,
     "metadata": {},
     "output_type": "execute_result"
    }
   ],
   "source": [
    "#Unemployed\n",
    "s2 = int((percents(665,2315)*nEmpty_employment_status)/100)\n",
    "s2"
   ]
  },
  {
   "cell_type": "code",
   "execution_count": 33,
   "id": "31e170b0",
   "metadata": {},
   "outputs": [
    {
     "data": {
      "text/plain": [
       "41"
      ]
     },
     "execution_count": 33,
     "metadata": {},
     "output_type": "execute_result"
    }
   ],
   "source": [
    "#Employed Full-Time\n",
    "s3 = int((percents(435,2315)*nEmpty_employment_status)/100)\n",
    "s3"
   ]
  },
  {
   "cell_type": "code",
   "execution_count": 34,
   "id": "b71dd639",
   "metadata": {},
   "outputs": [
    {
     "data": {
      "text/plain": [
       "26"
      ]
     },
     "execution_count": 34,
     "metadata": {},
     "output_type": "execute_result"
    }
   ],
   "source": [
    "#Employed Part-Time\n",
    "s4 = int((percents(270,2315)*nEmpty_employment_status)/100)\n",
    "s4"
   ]
  },
  {
   "cell_type": "code",
   "execution_count": 36,
   "id": "3201c30e",
   "metadata": {},
   "outputs": [
    {
     "data": {
      "text/plain": [
       "16"
      ]
     },
     "execution_count": 36,
     "metadata": {},
     "output_type": "execute_result"
    }
   ],
   "source": [
    "#Contractor\n",
    "s5 = int((percents(170,2315)*nEmpty_employment_status)/100)\n",
    "s5"
   ]
  },
  {
   "cell_type": "code",
   "execution_count": 37,
   "id": "cb5b5b04",
   "metadata": {},
   "outputs": [],
   "source": [
    "#define filling function for employment_status missing value\n",
    "\n",
    "\n",
    "new_employment_status = []\n",
    "def fillNull2(s1,s2,s3,s4,s5,lI2):\n",
    "    j1 = 0\n",
    "    for i1 in lI2:\n",
    "        if i1 is np.nan:\n",
    "            if j1 <= s1:\n",
    "               new_employment_status.append('student')\n",
    "            elif s1< j1 <= s1+s2:\n",
    "                new_employment_status.append('Unemployed')\n",
    "            elif s1+s2 < j1 <= s1+s2+s3:\n",
    "                new_employment_status.append('Employed Full-Time')\n",
    "            elif s1+s2+s3 < j1 <= s1+s2+s3+s4:\n",
    "                new_employment_status.append('Employed Part-Time')\n",
    "            elif s1+s2+s3+s4 <j1 < s1+s2+s3+s4+s5+3:\n",
    "                new_employment_status.append('Contractor')\n",
    "            j1 += 1\n",
    "        else:\n",
    "            new_employment_status.append(i1)\n",
    "            \n",
    "fillNull2(s1,s2,s3,s4,s5,df['employment_status '])"
   ]
  },
  {
   "cell_type": "code",
   "execution_count": 39,
   "id": "3884bbe1",
   "metadata": {},
   "outputs": [],
   "source": [
    "df.drop('employment_status ',axis=1,inplace=True)"
   ]
  },
  {
   "cell_type": "code",
   "execution_count": 40,
   "id": "00c2f1f0",
   "metadata": {},
   "outputs": [
    {
     "name": "stdout",
     "output_type": "stream",
     "text": [
      "<class 'pandas.core.frame.DataFrame'>\n",
      "Int64Index: 2504 entries, 0 to 2543\n",
      "Data columns (total 14 columns):\n",
      " #   Column                       Non-Null Count  Dtype  \n",
      "---  ------                       --------------  -----  \n",
      " 0   Professional_experience      2504 non-null   object \n",
      " 1   pathrise_status              2504 non-null   object \n",
      " 2   primary_track                2504 non-null   object \n",
      " 3   program_duration_days        2504 non-null   float64\n",
      " 4   placed                       2504 non-null   int64  \n",
      " 5   highest_level_of_education   2504 non-null   object \n",
      " 6   length_of_job_search         2504 non-null   object \n",
      " 7   biggest_challenge_in_search  2504 non-null   object \n",
      " 8   professional_experience      2284 non-null   object \n",
      " 9   work_authorization_status    2504 non-null   object \n",
      " 10  number_of_interviews         2504 non-null   float64\n",
      " 11  number_of_applications       2504 non-null   int64  \n",
      " 12  gender                       2022 non-null   object \n",
      " 13  race                         2504 non-null   object \n",
      "dtypes: float64(2), int64(2), object(10)\n",
      "memory usage: 293.4+ KB\n"
     ]
    }
   ],
   "source": [
    "df.info()\n"
   ]
  },
  {
   "cell_type": "code",
   "execution_count": 41,
   "id": "3787a448",
   "metadata": {},
   "outputs": [],
   "source": [
    "df.drop(['Professional_experience','professional_experience'],axis=1,inplace=True)"
   ]
  },
  {
   "cell_type": "code",
   "execution_count": 43,
   "id": "0b7db1f7",
   "metadata": {},
   "outputs": [
    {
     "name": "stdout",
     "output_type": "stream",
     "text": [
      "<class 'pandas.core.frame.DataFrame'>\n",
      "Int64Index: 2504 entries, 0 to 2543\n",
      "Data columns (total 12 columns):\n",
      " #   Column                       Non-Null Count  Dtype  \n",
      "---  ------                       --------------  -----  \n",
      " 0   pathrise_status              2504 non-null   object \n",
      " 1   primary_track                2504 non-null   object \n",
      " 2   program_duration_days        2504 non-null   float64\n",
      " 3   placed                       2504 non-null   int64  \n",
      " 4   highest_level_of_education   2504 non-null   object \n",
      " 5   length_of_job_search         2504 non-null   object \n",
      " 6   biggest_challenge_in_search  2504 non-null   object \n",
      " 7   work_authorization_status    2504 non-null   object \n",
      " 8   number_of_interviews         2504 non-null   float64\n",
      " 9   number_of_applications       2504 non-null   int64  \n",
      " 10  gender                       2022 non-null   object \n",
      " 11  race                         2504 non-null   object \n",
      "dtypes: float64(2), int64(2), object(8)\n",
      "memory usage: 254.3+ KB\n"
     ]
    }
   ],
   "source": [
    "df.info()"
   ]
  },
  {
   "cell_type": "code",
   "execution_count": 44,
   "id": "5ebf4556",
   "metadata": {},
   "outputs": [],
   "source": [
    "df.insert(loc=5, column='professional_experience', value=Professional_experience)"
   ]
  },
  {
   "cell_type": "code",
   "execution_count": 45,
   "id": "06d3c584",
   "metadata": {},
   "outputs": [],
   "source": [
    "df.insert(loc=5, column='employment_status', value=new_employment_status)"
   ]
  },
  {
   "cell_type": "code",
   "execution_count": 46,
   "id": "16073e23",
   "metadata": {},
   "outputs": [
    {
     "name": "stdout",
     "output_type": "stream",
     "text": [
      "<class 'pandas.core.frame.DataFrame'>\n",
      "Int64Index: 2504 entries, 0 to 2543\n",
      "Data columns (total 14 columns):\n",
      " #   Column                       Non-Null Count  Dtype  \n",
      "---  ------                       --------------  -----  \n",
      " 0   pathrise_status              2504 non-null   object \n",
      " 1   primary_track                2504 non-null   object \n",
      " 2   program_duration_days        2504 non-null   float64\n",
      " 3   placed                       2504 non-null   int64  \n",
      " 4   highest_level_of_education   2504 non-null   object \n",
      " 5   employment_status            2504 non-null   object \n",
      " 6   professional_experience      2504 non-null   object \n",
      " 7   length_of_job_search         2504 non-null   object \n",
      " 8   biggest_challenge_in_search  2504 non-null   object \n",
      " 9   work_authorization_status    2504 non-null   object \n",
      " 10  number_of_interviews         2504 non-null   float64\n",
      " 11  number_of_applications       2504 non-null   int64  \n",
      " 12  gender                       2022 non-null   object \n",
      " 13  race                         2504 non-null   object \n",
      "dtypes: float64(2), int64(2), object(10)\n",
      "memory usage: 293.4+ KB\n"
     ]
    }
   ],
   "source": [
    "df.info()"
   ]
  },
  {
   "cell_type": "code",
   "execution_count": 47,
   "id": "da1097bd",
   "metadata": {},
   "outputs": [],
   "source": [
    "var=df['gender'].isnull().sum()"
   ]
  },
  {
   "cell_type": "code",
   "execution_count": 48,
   "id": "3f75f957",
   "metadata": {},
   "outputs": [],
   "source": [
    "#Male\n",
    "NM = (percents(1492,2052 )*var)/100\n",
    "#Female \n",
    "NF = (percents(538,2052 )*var)/100\n",
    "#Decline to Self Identify  \n",
    "NDL = (percents(16,2052 )*var)/100\n",
    "#Non-Binary\n",
    "NNB = (percents(6,2052 )*var)/100"
   ]
  },
  {
   "cell_type": "code",
   "execution_count": 49,
   "id": "1eff6b02",
   "metadata": {},
   "outputs": [],
   "source": [
    "\n",
    "\n",
    "#define filling function for Gendar missing value\n",
    "\n",
    "\n",
    "Gendar = []\n",
    "def fillNull(NM,NF,NDL,NNB,lI):\n",
    "    j = 0\n",
    "    for i in lI:\n",
    "        if i is np.nan:\n",
    "            if j <= NM:\n",
    "               Gendar.append('Male')\n",
    "            elif NM< j <= NM+NF:\n",
    "                Gendar.append('Female')\n",
    "            elif NM+NF < j <= NM+NF+NDL:\n",
    "                Gendar.append('Decline to Self Identify')\n",
    "            elif NM+NF+NDL < j <= NM+NF+NDL+NNB+1:\n",
    "                Gendar.append('Non-Binary')\n",
    "            j += 1\n",
    "        else:\n",
    "            Gendar.append(i)\n",
    "            \n",
    "fillNull(NM,NF,NDL,NNB,df['gender'])\n"
   ]
  },
  {
   "cell_type": "code",
   "execution_count": 50,
   "id": "b29f4cd1",
   "metadata": {},
   "outputs": [],
   "source": [
    "df.drop('gender',axis=1,inplace=True)"
   ]
  },
  {
   "cell_type": "code",
   "execution_count": 51,
   "id": "f061d226",
   "metadata": {},
   "outputs": [],
   "source": [
    "df.insert(loc=5, column='gender', value=Gendar)"
   ]
  },
  {
   "cell_type": "code",
   "execution_count": 52,
   "id": "4368a2a5",
   "metadata": {},
   "outputs": [
    {
     "data": {
      "text/plain": [
       "2504"
      ]
     },
     "execution_count": 52,
     "metadata": {},
     "output_type": "execute_result"
    }
   ],
   "source": [
    "len(Gendar)"
   ]
  },
  {
   "cell_type": "code",
   "execution_count": 53,
   "id": "d1658127",
   "metadata": {},
   "outputs": [
    {
     "name": "stdout",
     "output_type": "stream",
     "text": [
      "<class 'pandas.core.frame.DataFrame'>\n",
      "Int64Index: 2504 entries, 0 to 2543\n",
      "Data columns (total 14 columns):\n",
      " #   Column                       Non-Null Count  Dtype  \n",
      "---  ------                       --------------  -----  \n",
      " 0   pathrise_status              2504 non-null   object \n",
      " 1   primary_track                2504 non-null   object \n",
      " 2   program_duration_days        2504 non-null   float64\n",
      " 3   placed                       2504 non-null   int64  \n",
      " 4   highest_level_of_education   2504 non-null   object \n",
      " 5   gender                       2504 non-null   object \n",
      " 6   employment_status            2504 non-null   object \n",
      " 7   professional_experience      2504 non-null   object \n",
      " 8   length_of_job_search         2504 non-null   object \n",
      " 9   biggest_challenge_in_search  2504 non-null   object \n",
      " 10  work_authorization_status    2504 non-null   object \n",
      " 11  number_of_interviews         2504 non-null   float64\n",
      " 12  number_of_applications       2504 non-null   int64  \n",
      " 13  race                         2504 non-null   object \n",
      "dtypes: float64(2), int64(2), object(10)\n",
      "memory usage: 293.4+ KB\n"
     ]
    }
   ],
   "source": [
    "df.info()"
   ]
  },
  {
   "cell_type": "code",
   "execution_count": 54,
   "id": "9b987786",
   "metadata": {},
   "outputs": [
    {
     "data": {
      "text/plain": [
       "Index(['pathrise_status', 'primary_track', 'program_duration_days', 'placed',\n",
       "       'highest_level_of_education', 'gender', 'employment_status',\n",
       "       'professional_experience', 'length_of_job_search',\n",
       "       'biggest_challenge_in_search', 'work_authorization_status',\n",
       "       'number_of_interviews', 'number_of_applications', 'race'],\n",
       "      dtype='object')"
      ]
     },
     "execution_count": 54,
     "metadata": {},
     "output_type": "execute_result"
    }
   ],
   "source": [
    "df.columns"
   ]
  },
  {
   "cell_type": "code",
   "execution_count": 55,
   "id": "a60a743b",
   "metadata": {},
   "outputs": [],
   "source": [
    "#pathrise_status_d = pd.get_dummies(df['pathrise_status'],drop_first=True)\n",
    "highest_level_of_education_d = pd.get_dummies(df['highest_level_of_education'],drop_first=True)\n",
    "length_of_job_search_d = pd.get_dummies(df['length_of_job_search'],drop_first=True)\n",
    "gender_d = pd.get_dummies(df['gender'],drop_first=True)\n",
    "employment_status_d = pd.get_dummies(df['employment_status'],drop_first=True)\n",
    "professional_experience_d = pd.get_dummies(df['professional_experience'],drop_first=True)\n",
    "biggest_challenge_in_search_d = pd.get_dummies(df['biggest_challenge_in_search'],drop_first=True)\n",
    "work_authorization_status_d = pd.get_dummies(df['work_authorization_status'],drop_first=True)\n",
    "race_d = pd.get_dummies(df['race'],drop_first=True)\n",
    "primary_track = pd.get_dummies(df['primary_track'],drop_first=True)\n",
    "\n",
    "df.drop([\"primary_track\",\"highest_level_of_education\",\"length_of_job_search\",\"gender\",\"employment_status\",\"professional_experience\",\"biggest_challenge_in_search\",\"work_authorization_status\",\"race\"],axis=1,inplace=True)\n",
    "#pd.concat([])"
   ]
  },
  {
   "cell_type": "code",
   "execution_count": 57,
   "id": "0ef18f75",
   "metadata": {},
   "outputs": [],
   "source": [
    "df = pd.concat([df, primary_track,highest_level_of_education_d,length_of_job_search_d,gender_d,employment_status_d,professional_experience_d,biggest_challenge_in_search_d,work_authorization_status_d,race_d],axis=1)"
   ]
  },
  {
   "cell_type": "code",
   "execution_count": 58,
   "id": "a833ac6c",
   "metadata": {
    "scrolled": true
   },
   "outputs": [
    {
     "name": "stdout",
     "output_type": "stream",
     "text": [
      "<class 'pandas.core.frame.DataFrame'>\n",
      "Int64Index: 2504 entries, 0 to 2543\n",
      "Data columns (total 56 columns):\n",
      " #   Column                                Non-Null Count  Dtype  \n",
      "---  ------                                --------------  -----  \n",
      " 0   pathrise_status                       2504 non-null   object \n",
      " 1   program_duration_days                 2504 non-null   float64\n",
      " 2   placed                                2504 non-null   int64  \n",
      " 3   number_of_interviews                  2504 non-null   float64\n",
      " 4   number_of_applications                2504 non-null   int64  \n",
      " 5   Design                                2504 non-null   uint8  \n",
      " 6   Marketing                             2504 non-null   uint8  \n",
      " 7   PSO                                   2504 non-null   uint8  \n",
      " 8   SWE                                   2504 non-null   uint8  \n",
      " 9   Web                                   2504 non-null   uint8  \n",
      " 10  Doctorate or Professional Degree      2504 non-null   uint8  \n",
      " 11  GED or equivalent                     2504 non-null   uint8  \n",
      " 12  High School Graduate                  2504 non-null   uint8  \n",
      " 13  Master's Degree                       2504 non-null   uint8  \n",
      " 14  Some College, No Degree               2504 non-null   uint8  \n",
      " 15  Some High School                      2504 non-null   uint8  \n",
      " 16  3-5 months                            2504 non-null   uint8  \n",
      " 17  6 months to a year                    2504 non-null   uint8  \n",
      " 18  Less than one month                   2504 non-null   uint8  \n",
      " 19  Over a year                           2504 non-null   uint8  \n",
      " 20  Female                                2504 non-null   uint8  \n",
      " 21  Male                                  2504 non-null   uint8  \n",
      " 22  Non-Binary                            2504 non-null   uint8  \n",
      " 23  Employed Full-Time                    2504 non-null   uint8  \n",
      " 24  Employed Part-Time                    2504 non-null   uint8  \n",
      " 25  Student                               2504 non-null   uint8  \n",
      " 26  Unemployed                            2504 non-null   uint8  \n",
      " 27  student                               2504 non-null   uint8  \n",
      " 28  3-4 years                             2504 non-null   uint8  \n",
      " 29  5+ years                              2504 non-null   uint8  \n",
      " 30  Less than one year                    2504 non-null   uint8  \n",
      " 31  Figuring out which jobs to apply for  2504 non-null   uint8  \n",
      " 32  Getting past final round interviews   2504 non-null   uint8  \n",
      " 33  Getting past mid-stage interviews     2504 non-null   uint8  \n",
      " 34  Getting past phone screens            2504 non-null   uint8  \n",
      " 35  Hearing back on my applications       2504 non-null   uint8  \n",
      " 36  Lack of relevant experience           2504 non-null   uint8  \n",
      " 37  Resume gap                            2504 non-null   uint8  \n",
      " 38  Technical interviewing                2504 non-null   uint8  \n",
      " 39  Technical skills                      2504 non-null   uint8  \n",
      " 40  Citizen                               2504 non-null   uint8  \n",
      " 41  F1 Visa/CPT                           2504 non-null   uint8  \n",
      " 42  F1 Visa/OPT                           2504 non-null   uint8  \n",
      " 43  Green Card                            2504 non-null   uint8  \n",
      " 44  H1B                                   2504 non-null   uint8  \n",
      " 45  Not Authorized                        2504 non-null   uint8  \n",
      " 46  Other                                 2504 non-null   uint8  \n",
      " 47  STEM OPT                              2504 non-null   uint8  \n",
      " 48  Decline to Self Identify              2504 non-null   uint8  \n",
      " 49  East Asian or Asian American          2504 non-null   uint8  \n",
      " 50  Latino or Hispanic American           2504 non-null   uint8  \n",
      " 51  Middle Eastern or Arab American       2504 non-null   uint8  \n",
      " 52  Native American or Alaskan Native     2504 non-null   uint8  \n",
      " 53  Non-Hispanic White or Euro-American   2504 non-null   uint8  \n",
      " 54  South Asian or Indian American        2504 non-null   uint8  \n",
      " 55  Two or More Races                     2504 non-null   uint8  \n",
      "dtypes: float64(2), int64(2), object(1), uint8(51)\n",
      "memory usage: 242.1+ KB\n"
     ]
    }
   ],
   "source": [
    "#df.drop('primary_track',axis=1,inplace=True)\n",
    "df.info()"
   ]
  },
  {
   "cell_type": "code",
   "execution_count": 61,
   "id": "9fedb05c",
   "metadata": {},
   "outputs": [],
   "source": [
    "#df.rename(columns = {'placed':'placed_target'}, inplace = True)\n",
    "\n",
    "df.to_csv(\"pathrise_new.csv\")"
   ]
  },
  {
   "cell_type": "code",
   "execution_count": 62,
   "id": "6427e3a8",
   "metadata": {
    "scrolled": false
   },
   "outputs": [
    {
     "data": {
      "text/html": [
       "<div>\n",
       "<style scoped>\n",
       "    .dataframe tbody tr th:only-of-type {\n",
       "        vertical-align: middle;\n",
       "    }\n",
       "\n",
       "    .dataframe tbody tr th {\n",
       "        vertical-align: top;\n",
       "    }\n",
       "\n",
       "    .dataframe thead th {\n",
       "        text-align: right;\n",
       "    }\n",
       "</style>\n",
       "<table border=\"1\" class=\"dataframe\">\n",
       "  <thead>\n",
       "    <tr style=\"text-align: right;\">\n",
       "      <th></th>\n",
       "      <th>Decline to Self Identify</th>\n",
       "      <th>East Asian or Asian American</th>\n",
       "      <th>Latino or Hispanic American</th>\n",
       "      <th>Middle Eastern or Arab American</th>\n",
       "      <th>Native American or Alaskan Native</th>\n",
       "      <th>Non-Hispanic White or Euro-American</th>\n",
       "      <th>South Asian or Indian American</th>\n",
       "      <th>Two or More Races</th>\n",
       "    </tr>\n",
       "  </thead>\n",
       "  <tbody>\n",
       "    <tr>\n",
       "      <th>0</th>\n",
       "      <td>0</td>\n",
       "      <td>0</td>\n",
       "      <td>0</td>\n",
       "      <td>0</td>\n",
       "      <td>0</td>\n",
       "      <td>1</td>\n",
       "      <td>0</td>\n",
       "      <td>0</td>\n",
       "    </tr>\n",
       "    <tr>\n",
       "      <th>1</th>\n",
       "      <td>0</td>\n",
       "      <td>0</td>\n",
       "      <td>0</td>\n",
       "      <td>0</td>\n",
       "      <td>0</td>\n",
       "      <td>1</td>\n",
       "      <td>0</td>\n",
       "      <td>0</td>\n",
       "    </tr>\n",
       "    <tr>\n",
       "      <th>2</th>\n",
       "      <td>0</td>\n",
       "      <td>1</td>\n",
       "      <td>0</td>\n",
       "      <td>0</td>\n",
       "      <td>0</td>\n",
       "      <td>0</td>\n",
       "      <td>0</td>\n",
       "      <td>0</td>\n",
       "    </tr>\n",
       "    <tr>\n",
       "      <th>3</th>\n",
       "      <td>1</td>\n",
       "      <td>0</td>\n",
       "      <td>0</td>\n",
       "      <td>0</td>\n",
       "      <td>0</td>\n",
       "      <td>0</td>\n",
       "      <td>0</td>\n",
       "      <td>0</td>\n",
       "    </tr>\n",
       "    <tr>\n",
       "      <th>4</th>\n",
       "      <td>0</td>\n",
       "      <td>1</td>\n",
       "      <td>0</td>\n",
       "      <td>0</td>\n",
       "      <td>0</td>\n",
       "      <td>0</td>\n",
       "      <td>0</td>\n",
       "      <td>0</td>\n",
       "    </tr>\n",
       "    <tr>\n",
       "      <th>...</th>\n",
       "      <td>...</td>\n",
       "      <td>...</td>\n",
       "      <td>...</td>\n",
       "      <td>...</td>\n",
       "      <td>...</td>\n",
       "      <td>...</td>\n",
       "      <td>...</td>\n",
       "      <td>...</td>\n",
       "    </tr>\n",
       "    <tr>\n",
       "      <th>2539</th>\n",
       "      <td>0</td>\n",
       "      <td>0</td>\n",
       "      <td>0</td>\n",
       "      <td>0</td>\n",
       "      <td>0</td>\n",
       "      <td>1</td>\n",
       "      <td>0</td>\n",
       "      <td>0</td>\n",
       "    </tr>\n",
       "    <tr>\n",
       "      <th>2540</th>\n",
       "      <td>0</td>\n",
       "      <td>0</td>\n",
       "      <td>0</td>\n",
       "      <td>0</td>\n",
       "      <td>0</td>\n",
       "      <td>1</td>\n",
       "      <td>0</td>\n",
       "      <td>0</td>\n",
       "    </tr>\n",
       "    <tr>\n",
       "      <th>2541</th>\n",
       "      <td>0</td>\n",
       "      <td>0</td>\n",
       "      <td>0</td>\n",
       "      <td>0</td>\n",
       "      <td>0</td>\n",
       "      <td>1</td>\n",
       "      <td>0</td>\n",
       "      <td>0</td>\n",
       "    </tr>\n",
       "    <tr>\n",
       "      <th>2542</th>\n",
       "      <td>1</td>\n",
       "      <td>0</td>\n",
       "      <td>0</td>\n",
       "      <td>0</td>\n",
       "      <td>0</td>\n",
       "      <td>0</td>\n",
       "      <td>0</td>\n",
       "      <td>0</td>\n",
       "    </tr>\n",
       "    <tr>\n",
       "      <th>2543</th>\n",
       "      <td>0</td>\n",
       "      <td>0</td>\n",
       "      <td>0</td>\n",
       "      <td>0</td>\n",
       "      <td>0</td>\n",
       "      <td>1</td>\n",
       "      <td>0</td>\n",
       "      <td>0</td>\n",
       "    </tr>\n",
       "  </tbody>\n",
       "</table>\n",
       "<p>2504 rows × 8 columns</p>\n",
       "</div>"
      ],
      "text/plain": [
       "      Decline to Self Identify  East Asian or Asian American  \\\n",
       "0                            0                             0   \n",
       "1                            0                             0   \n",
       "2                            0                             1   \n",
       "3                            1                             0   \n",
       "4                            0                             1   \n",
       "...                        ...                           ...   \n",
       "2539                         0                             0   \n",
       "2540                         0                             0   \n",
       "2541                         0                             0   \n",
       "2542                         1                             0   \n",
       "2543                         0                             0   \n",
       "\n",
       "      Latino or Hispanic American  Middle Eastern or Arab American  \\\n",
       "0                               0                                0   \n",
       "1                               0                                0   \n",
       "2                               0                                0   \n",
       "3                               0                                0   \n",
       "4                               0                                0   \n",
       "...                           ...                              ...   \n",
       "2539                            0                                0   \n",
       "2540                            0                                0   \n",
       "2541                            0                                0   \n",
       "2542                            0                                0   \n",
       "2543                            0                                0   \n",
       "\n",
       "      Native American or Alaskan Native  Non-Hispanic White or Euro-American  \\\n",
       "0                                     0                                    1   \n",
       "1                                     0                                    1   \n",
       "2                                     0                                    0   \n",
       "3                                     0                                    0   \n",
       "4                                     0                                    0   \n",
       "...                                 ...                                  ...   \n",
       "2539                                  0                                    1   \n",
       "2540                                  0                                    1   \n",
       "2541                                  0                                    1   \n",
       "2542                                  0                                    0   \n",
       "2543                                  0                                    1   \n",
       "\n",
       "      South Asian or Indian American  Two or More Races  \n",
       "0                                  0                  0  \n",
       "1                                  0                  0  \n",
       "2                                  0                  0  \n",
       "3                                  0                  0  \n",
       "4                                  0                  0  \n",
       "...                              ...                ...  \n",
       "2539                               0                  0  \n",
       "2540                               0                  0  \n",
       "2541                               0                  0  \n",
       "2542                               0                  0  \n",
       "2543                               0                  0  \n",
       "\n",
       "[2504 rows x 8 columns]"
      ]
     },
     "execution_count": 62,
     "metadata": {},
     "output_type": "execute_result"
    }
   ],
   "source": [
    "#pathrise_status_d\n",
    "race_d "
   ]
  },
  {
   "cell_type": "code",
   "execution_count": 63,
   "id": "fa87ce6f",
   "metadata": {},
   "outputs": [],
   "source": [
    "df_new = df.drop('placed',axis=1)"
   ]
  },
  {
   "cell_type": "code",
   "execution_count": 64,
   "id": "e2b38eaa",
   "metadata": {},
   "outputs": [
    {
     "name": "stdout",
     "output_type": "stream",
     "text": [
      "<class 'pandas.core.frame.DataFrame'>\n",
      "Int64Index: 2504 entries, 0 to 2543\n",
      "Data columns (total 55 columns):\n",
      " #   Column                                Non-Null Count  Dtype  \n",
      "---  ------                                --------------  -----  \n",
      " 0   pathrise_status                       2504 non-null   object \n",
      " 1   program_duration_days                 2504 non-null   float64\n",
      " 2   number_of_interviews                  2504 non-null   float64\n",
      " 3   number_of_applications                2504 non-null   int64  \n",
      " 4   Design                                2504 non-null   uint8  \n",
      " 5   Marketing                             2504 non-null   uint8  \n",
      " 6   PSO                                   2504 non-null   uint8  \n",
      " 7   SWE                                   2504 non-null   uint8  \n",
      " 8   Web                                   2504 non-null   uint8  \n",
      " 9   Doctorate or Professional Degree      2504 non-null   uint8  \n",
      " 10  GED or equivalent                     2504 non-null   uint8  \n",
      " 11  High School Graduate                  2504 non-null   uint8  \n",
      " 12  Master's Degree                       2504 non-null   uint8  \n",
      " 13  Some College, No Degree               2504 non-null   uint8  \n",
      " 14  Some High School                      2504 non-null   uint8  \n",
      " 15  3-5 months                            2504 non-null   uint8  \n",
      " 16  6 months to a year                    2504 non-null   uint8  \n",
      " 17  Less than one month                   2504 non-null   uint8  \n",
      " 18  Over a year                           2504 non-null   uint8  \n",
      " 19  Female                                2504 non-null   uint8  \n",
      " 20  Male                                  2504 non-null   uint8  \n",
      " 21  Non-Binary                            2504 non-null   uint8  \n",
      " 22  Employed Full-Time                    2504 non-null   uint8  \n",
      " 23  Employed Part-Time                    2504 non-null   uint8  \n",
      " 24  Student                               2504 non-null   uint8  \n",
      " 25  Unemployed                            2504 non-null   uint8  \n",
      " 26  student                               2504 non-null   uint8  \n",
      " 27  3-4 years                             2504 non-null   uint8  \n",
      " 28  5+ years                              2504 non-null   uint8  \n",
      " 29  Less than one year                    2504 non-null   uint8  \n",
      " 30  Figuring out which jobs to apply for  2504 non-null   uint8  \n",
      " 31  Getting past final round interviews   2504 non-null   uint8  \n",
      " 32  Getting past mid-stage interviews     2504 non-null   uint8  \n",
      " 33  Getting past phone screens            2504 non-null   uint8  \n",
      " 34  Hearing back on my applications       2504 non-null   uint8  \n",
      " 35  Lack of relevant experience           2504 non-null   uint8  \n",
      " 36  Resume gap                            2504 non-null   uint8  \n",
      " 37  Technical interviewing                2504 non-null   uint8  \n",
      " 38  Technical skills                      2504 non-null   uint8  \n",
      " 39  Citizen                               2504 non-null   uint8  \n",
      " 40  F1 Visa/CPT                           2504 non-null   uint8  \n",
      " 41  F1 Visa/OPT                           2504 non-null   uint8  \n",
      " 42  Green Card                            2504 non-null   uint8  \n",
      " 43  H1B                                   2504 non-null   uint8  \n",
      " 44  Not Authorized                        2504 non-null   uint8  \n",
      " 45  Other                                 2504 non-null   uint8  \n",
      " 46  STEM OPT                              2504 non-null   uint8  \n",
      " 47  Decline to Self Identify              2504 non-null   uint8  \n",
      " 48  East Asian or Asian American          2504 non-null   uint8  \n",
      " 49  Latino or Hispanic American           2504 non-null   uint8  \n",
      " 50  Middle Eastern or Arab American       2504 non-null   uint8  \n",
      " 51  Native American or Alaskan Native     2504 non-null   uint8  \n",
      " 52  Non-Hispanic White or Euro-American   2504 non-null   uint8  \n",
      " 53  South Asian or Indian American        2504 non-null   uint8  \n",
      " 54  Two or More Races                     2504 non-null   uint8  \n",
      "dtypes: float64(2), int64(1), object(1), uint8(51)\n",
      "memory usage: 222.5+ KB\n"
     ]
    }
   ],
   "source": [
    "df_new.info()"
   ]
  },
  {
   "cell_type": "code",
   "execution_count": 65,
   "id": "35fc5940",
   "metadata": {},
   "outputs": [],
   "source": [
    "from sklearn.model_selection import train_test_split"
   ]
  },
  {
   "cell_type": "code",
   "execution_count": 68,
   "id": "cccaaa3c",
   "metadata": {},
   "outputs": [
    {
     "data": {
      "text/html": [
       "<div>\n",
       "<style scoped>\n",
       "    .dataframe tbody tr th:only-of-type {\n",
       "        vertical-align: middle;\n",
       "    }\n",
       "\n",
       "    .dataframe tbody tr th {\n",
       "        vertical-align: top;\n",
       "    }\n",
       "\n",
       "    .dataframe thead th {\n",
       "        text-align: right;\n",
       "    }\n",
       "</style>\n",
       "<table border=\"1\" class=\"dataframe\">\n",
       "  <thead>\n",
       "    <tr style=\"text-align: right;\">\n",
       "      <th></th>\n",
       "      <th>program_duration_days</th>\n",
       "      <th>number_of_interviews</th>\n",
       "      <th>number_of_applications</th>\n",
       "      <th>Design</th>\n",
       "      <th>Marketing</th>\n",
       "      <th>PSO</th>\n",
       "      <th>SWE</th>\n",
       "      <th>Web</th>\n",
       "      <th>Doctorate or Professional Degree</th>\n",
       "      <th>GED or equivalent</th>\n",
       "      <th>...</th>\n",
       "      <th>Other</th>\n",
       "      <th>STEM OPT</th>\n",
       "      <th>Decline to Self Identify</th>\n",
       "      <th>East Asian or Asian American</th>\n",
       "      <th>Latino or Hispanic American</th>\n",
       "      <th>Middle Eastern or Arab American</th>\n",
       "      <th>Native American or Alaskan Native</th>\n",
       "      <th>Non-Hispanic White or Euro-American</th>\n",
       "      <th>South Asian or Indian American</th>\n",
       "      <th>Two or More Races</th>\n",
       "    </tr>\n",
       "  </thead>\n",
       "  <tbody>\n",
       "    <tr>\n",
       "      <th>0</th>\n",
       "      <td>0.0</td>\n",
       "      <td>2.0</td>\n",
       "      <td>900</td>\n",
       "      <td>0</td>\n",
       "      <td>0</td>\n",
       "      <td>0</td>\n",
       "      <td>1</td>\n",
       "      <td>0</td>\n",
       "      <td>0</td>\n",
       "      <td>0</td>\n",
       "      <td>...</td>\n",
       "      <td>0</td>\n",
       "      <td>0</td>\n",
       "      <td>0</td>\n",
       "      <td>0</td>\n",
       "      <td>0</td>\n",
       "      <td>0</td>\n",
       "      <td>0</td>\n",
       "      <td>1</td>\n",
       "      <td>0</td>\n",
       "      <td>0</td>\n",
       "    </tr>\n",
       "    <tr>\n",
       "      <th>1</th>\n",
       "      <td>0.0</td>\n",
       "      <td>6.0</td>\n",
       "      <td>0</td>\n",
       "      <td>0</td>\n",
       "      <td>0</td>\n",
       "      <td>1</td>\n",
       "      <td>0</td>\n",
       "      <td>0</td>\n",
       "      <td>0</td>\n",
       "      <td>0</td>\n",
       "      <td>...</td>\n",
       "      <td>0</td>\n",
       "      <td>0</td>\n",
       "      <td>0</td>\n",
       "      <td>0</td>\n",
       "      <td>0</td>\n",
       "      <td>0</td>\n",
       "      <td>0</td>\n",
       "      <td>1</td>\n",
       "      <td>0</td>\n",
       "      <td>0</td>\n",
       "    </tr>\n",
       "    <tr>\n",
       "      <th>2</th>\n",
       "      <td>0.0</td>\n",
       "      <td>0.0</td>\n",
       "      <td>0</td>\n",
       "      <td>1</td>\n",
       "      <td>0</td>\n",
       "      <td>0</td>\n",
       "      <td>0</td>\n",
       "      <td>0</td>\n",
       "      <td>0</td>\n",
       "      <td>0</td>\n",
       "      <td>...</td>\n",
       "      <td>0</td>\n",
       "      <td>0</td>\n",
       "      <td>0</td>\n",
       "      <td>1</td>\n",
       "      <td>0</td>\n",
       "      <td>0</td>\n",
       "      <td>0</td>\n",
       "      <td>0</td>\n",
       "      <td>0</td>\n",
       "      <td>0</td>\n",
       "    </tr>\n",
       "    <tr>\n",
       "      <th>3</th>\n",
       "      <td>0.0</td>\n",
       "      <td>5.0</td>\n",
       "      <td>25</td>\n",
       "      <td>0</td>\n",
       "      <td>0</td>\n",
       "      <td>1</td>\n",
       "      <td>0</td>\n",
       "      <td>0</td>\n",
       "      <td>0</td>\n",
       "      <td>0</td>\n",
       "      <td>...</td>\n",
       "      <td>0</td>\n",
       "      <td>0</td>\n",
       "      <td>1</td>\n",
       "      <td>0</td>\n",
       "      <td>0</td>\n",
       "      <td>0</td>\n",
       "      <td>0</td>\n",
       "      <td>0</td>\n",
       "      <td>0</td>\n",
       "      <td>0</td>\n",
       "    </tr>\n",
       "    <tr>\n",
       "      <th>4</th>\n",
       "      <td>89.0</td>\n",
       "      <td>10.0</td>\n",
       "      <td>100</td>\n",
       "      <td>0</td>\n",
       "      <td>0</td>\n",
       "      <td>0</td>\n",
       "      <td>1</td>\n",
       "      <td>0</td>\n",
       "      <td>0</td>\n",
       "      <td>0</td>\n",
       "      <td>...</td>\n",
       "      <td>0</td>\n",
       "      <td>0</td>\n",
       "      <td>0</td>\n",
       "      <td>1</td>\n",
       "      <td>0</td>\n",
       "      <td>0</td>\n",
       "      <td>0</td>\n",
       "      <td>0</td>\n",
       "      <td>0</td>\n",
       "      <td>0</td>\n",
       "    </tr>\n",
       "    <tr>\n",
       "      <th>...</th>\n",
       "      <td>...</td>\n",
       "      <td>...</td>\n",
       "      <td>...</td>\n",
       "      <td>...</td>\n",
       "      <td>...</td>\n",
       "      <td>...</td>\n",
       "      <td>...</td>\n",
       "      <td>...</td>\n",
       "      <td>...</td>\n",
       "      <td>...</td>\n",
       "      <td>...</td>\n",
       "      <td>...</td>\n",
       "      <td>...</td>\n",
       "      <td>...</td>\n",
       "      <td>...</td>\n",
       "      <td>...</td>\n",
       "      <td>...</td>\n",
       "      <td>...</td>\n",
       "      <td>...</td>\n",
       "      <td>...</td>\n",
       "      <td>...</td>\n",
       "    </tr>\n",
       "    <tr>\n",
       "      <th>2539</th>\n",
       "      <td>457.0</td>\n",
       "      <td>4.0</td>\n",
       "      <td>15</td>\n",
       "      <td>1</td>\n",
       "      <td>0</td>\n",
       "      <td>0</td>\n",
       "      <td>0</td>\n",
       "      <td>0</td>\n",
       "      <td>0</td>\n",
       "      <td>0</td>\n",
       "      <td>...</td>\n",
       "      <td>0</td>\n",
       "      <td>0</td>\n",
       "      <td>0</td>\n",
       "      <td>0</td>\n",
       "      <td>0</td>\n",
       "      <td>0</td>\n",
       "      <td>0</td>\n",
       "      <td>1</td>\n",
       "      <td>0</td>\n",
       "      <td>0</td>\n",
       "    </tr>\n",
       "    <tr>\n",
       "      <th>2540</th>\n",
       "      <td>488.0</td>\n",
       "      <td>1.0</td>\n",
       "      <td>7</td>\n",
       "      <td>0</td>\n",
       "      <td>0</td>\n",
       "      <td>0</td>\n",
       "      <td>0</td>\n",
       "      <td>0</td>\n",
       "      <td>0</td>\n",
       "      <td>0</td>\n",
       "      <td>...</td>\n",
       "      <td>0</td>\n",
       "      <td>0</td>\n",
       "      <td>0</td>\n",
       "      <td>0</td>\n",
       "      <td>0</td>\n",
       "      <td>0</td>\n",
       "      <td>0</td>\n",
       "      <td>1</td>\n",
       "      <td>0</td>\n",
       "      <td>0</td>\n",
       "    </tr>\n",
       "    <tr>\n",
       "      <th>2541</th>\n",
       "      <td>0.0</td>\n",
       "      <td>1.0</td>\n",
       "      <td>30</td>\n",
       "      <td>0</td>\n",
       "      <td>0</td>\n",
       "      <td>0</td>\n",
       "      <td>1</td>\n",
       "      <td>0</td>\n",
       "      <td>0</td>\n",
       "      <td>0</td>\n",
       "      <td>...</td>\n",
       "      <td>0</td>\n",
       "      <td>0</td>\n",
       "      <td>0</td>\n",
       "      <td>0</td>\n",
       "      <td>0</td>\n",
       "      <td>0</td>\n",
       "      <td>0</td>\n",
       "      <td>1</td>\n",
       "      <td>0</td>\n",
       "      <td>0</td>\n",
       "    </tr>\n",
       "    <tr>\n",
       "      <th>2542</th>\n",
       "      <td>0.0</td>\n",
       "      <td>2.0</td>\n",
       "      <td>10</td>\n",
       "      <td>0</td>\n",
       "      <td>0</td>\n",
       "      <td>0</td>\n",
       "      <td>1</td>\n",
       "      <td>0</td>\n",
       "      <td>0</td>\n",
       "      <td>0</td>\n",
       "      <td>...</td>\n",
       "      <td>0</td>\n",
       "      <td>0</td>\n",
       "      <td>1</td>\n",
       "      <td>0</td>\n",
       "      <td>0</td>\n",
       "      <td>0</td>\n",
       "      <td>0</td>\n",
       "      <td>0</td>\n",
       "      <td>0</td>\n",
       "      <td>0</td>\n",
       "    </tr>\n",
       "    <tr>\n",
       "      <th>2543</th>\n",
       "      <td>285.0</td>\n",
       "      <td>3.0</td>\n",
       "      <td>70</td>\n",
       "      <td>0</td>\n",
       "      <td>0</td>\n",
       "      <td>0</td>\n",
       "      <td>1</td>\n",
       "      <td>0</td>\n",
       "      <td>0</td>\n",
       "      <td>0</td>\n",
       "      <td>...</td>\n",
       "      <td>0</td>\n",
       "      <td>0</td>\n",
       "      <td>0</td>\n",
       "      <td>0</td>\n",
       "      <td>0</td>\n",
       "      <td>0</td>\n",
       "      <td>0</td>\n",
       "      <td>1</td>\n",
       "      <td>0</td>\n",
       "      <td>0</td>\n",
       "    </tr>\n",
       "  </tbody>\n",
       "</table>\n",
       "<p>2504 rows × 54 columns</p>\n",
       "</div>"
      ],
      "text/plain": [
       "      program_duration_days  number_of_interviews  number_of_applications  \\\n",
       "0                       0.0                   2.0                     900   \n",
       "1                       0.0                   6.0                       0   \n",
       "2                       0.0                   0.0                       0   \n",
       "3                       0.0                   5.0                      25   \n",
       "4                      89.0                  10.0                     100   \n",
       "...                     ...                   ...                     ...   \n",
       "2539                  457.0                   4.0                      15   \n",
       "2540                  488.0                   1.0                       7   \n",
       "2541                    0.0                   1.0                      30   \n",
       "2542                    0.0                   2.0                      10   \n",
       "2543                  285.0                   3.0                      70   \n",
       "\n",
       "      Design  Marketing  PSO  SWE  Web  Doctorate or Professional Degree  \\\n",
       "0          0          0    0    1    0                                 0   \n",
       "1          0          0    1    0    0                                 0   \n",
       "2          1          0    0    0    0                                 0   \n",
       "3          0          0    1    0    0                                 0   \n",
       "4          0          0    0    1    0                                 0   \n",
       "...      ...        ...  ...  ...  ...                               ...   \n",
       "2539       1          0    0    0    0                                 0   \n",
       "2540       0          0    0    0    0                                 0   \n",
       "2541       0          0    0    1    0                                 0   \n",
       "2542       0          0    0    1    0                                 0   \n",
       "2543       0          0    0    1    0                                 0   \n",
       "\n",
       "      GED or equivalent  ...  Other  STEM OPT  Decline to Self Identify  \\\n",
       "0                     0  ...      0         0                         0   \n",
       "1                     0  ...      0         0                         0   \n",
       "2                     0  ...      0         0                         0   \n",
       "3                     0  ...      0         0                         1   \n",
       "4                     0  ...      0         0                         0   \n",
       "...                 ...  ...    ...       ...                       ...   \n",
       "2539                  0  ...      0         0                         0   \n",
       "2540                  0  ...      0         0                         0   \n",
       "2541                  0  ...      0         0                         0   \n",
       "2542                  0  ...      0         0                         1   \n",
       "2543                  0  ...      0         0                         0   \n",
       "\n",
       "      East Asian or Asian American  Latino or Hispanic American  \\\n",
       "0                                0                            0   \n",
       "1                                0                            0   \n",
       "2                                1                            0   \n",
       "3                                0                            0   \n",
       "4                                1                            0   \n",
       "...                            ...                          ...   \n",
       "2539                             0                            0   \n",
       "2540                             0                            0   \n",
       "2541                             0                            0   \n",
       "2542                             0                            0   \n",
       "2543                             0                            0   \n",
       "\n",
       "      Middle Eastern or Arab American  Native American or Alaskan Native  \\\n",
       "0                                   0                                  0   \n",
       "1                                   0                                  0   \n",
       "2                                   0                                  0   \n",
       "3                                   0                                  0   \n",
       "4                                   0                                  0   \n",
       "...                               ...                                ...   \n",
       "2539                                0                                  0   \n",
       "2540                                0                                  0   \n",
       "2541                                0                                  0   \n",
       "2542                                0                                  0   \n",
       "2543                                0                                  0   \n",
       "\n",
       "      Non-Hispanic White or Euro-American  South Asian or Indian American  \\\n",
       "0                                       1                               0   \n",
       "1                                       1                               0   \n",
       "2                                       0                               0   \n",
       "3                                       0                               0   \n",
       "4                                       0                               0   \n",
       "...                                   ...                             ...   \n",
       "2539                                    1                               0   \n",
       "2540                                    1                               0   \n",
       "2541                                    1                               0   \n",
       "2542                                    0                               0   \n",
       "2543                                    1                               0   \n",
       "\n",
       "      Two or More Races  \n",
       "0                     0  \n",
       "1                     0  \n",
       "2                     0  \n",
       "3                     0  \n",
       "4                     0  \n",
       "...                 ...  \n",
       "2539                  0  \n",
       "2540                  0  \n",
       "2541                  0  \n",
       "2542                  0  \n",
       "2543                  0  \n",
       "\n",
       "[2504 rows x 54 columns]"
      ]
     },
     "execution_count": 68,
     "metadata": {},
     "output_type": "execute_result"
    }
   ],
   "source": [
    "X = df_new.drop('pathrise_status',axis=1)\n",
    "y = df_new['pathrise_status']\n",
    "#y=y.astype(\"float\")\n",
    "#type(y)\n",
    "#type(y[0])\n",
    "#df.columns\n",
    "#df = df.apply(pd.to_numeric,downcast='float')\n",
    "#df = df.astype(np.float64)\n",
    "X"
   ]
  },
  {
   "cell_type": "code",
   "execution_count": 69,
   "id": "91300c46",
   "metadata": {},
   "outputs": [],
   "source": [
    "from sklearn.preprocessing import StandardScaler\n",
    "from sklearn import preprocessing"
   ]
  },
  {
   "cell_type": "code",
   "execution_count": 70,
   "id": "83a181fc",
   "metadata": {},
   "outputs": [],
   "source": [
    "scaled_features = preprocessing.normalize(X, axis=1)"
   ]
  },
  {
   "cell_type": "code",
   "execution_count": null,
   "id": "6ac1f42b",
   "metadata": {},
   "outputs": [],
   "source": []
  },
  {
   "cell_type": "code",
   "execution_count": null,
   "id": "4fc903f0",
   "metadata": {},
   "outputs": [],
   "source": [
    "#scaler = StandardScaler()"
   ]
  },
  {
   "cell_type": "code",
   "execution_count": null,
   "id": "4c1e6d2e",
   "metadata": {},
   "outputs": [],
   "source": [
    "#scaler.fit(df.drop('placed_target',axis=1))"
   ]
  },
  {
   "cell_type": "code",
   "execution_count": null,
   "id": "1d692f4a",
   "metadata": {},
   "outputs": [],
   "source": [
    "#scaled_features = scaler.transform(df.drop('placed_target',axis=1))"
   ]
  },
  {
   "cell_type": "code",
   "execution_count": null,
   "id": "488441ec",
   "metadata": {},
   "outputs": [],
   "source": [
    "#df_feat = pd.DataFrame(scaled_features,columns=df.columns[:-1])\n",
    "#df_feat.head()"
   ]
  },
  {
   "cell_type": "code",
   "execution_count": 72,
   "id": "86e193af",
   "metadata": {},
   "outputs": [],
   "source": [
    "X = scaled_features\n",
    "y = df_new['pathrise_status']"
   ]
  },
  {
   "cell_type": "code",
   "execution_count": 74,
   "id": "12755898",
   "metadata": {},
   "outputs": [],
   "source": [
    "X_train, X_test, y_train, y_test = train_test_split(X, y, test_size=0.30 , random_state=101)"
   ]
  },
  {
   "cell_type": "code",
   "execution_count": 75,
   "id": "ac90a651",
   "metadata": {},
   "outputs": [],
   "source": [
    "from sklearn.tree import DecisionTreeClassifier"
   ]
  },
  {
   "cell_type": "code",
   "execution_count": 77,
   "id": "8cbd90ac",
   "metadata": {},
   "outputs": [],
   "source": [
    "dtree = DecisionTreeClassifier()"
   ]
  },
  {
   "cell_type": "code",
   "execution_count": 78,
   "id": "064f6ce1",
   "metadata": {},
   "outputs": [
    {
     "data": {
      "text/html": [
       "<style>#sk-container-id-1 {color: black;background-color: white;}#sk-container-id-1 pre{padding: 0;}#sk-container-id-1 div.sk-toggleable {background-color: white;}#sk-container-id-1 label.sk-toggleable__label {cursor: pointer;display: block;width: 100%;margin-bottom: 0;padding: 0.3em;box-sizing: border-box;text-align: center;}#sk-container-id-1 label.sk-toggleable__label-arrow:before {content: \"▸\";float: left;margin-right: 0.25em;color: #696969;}#sk-container-id-1 label.sk-toggleable__label-arrow:hover:before {color: black;}#sk-container-id-1 div.sk-estimator:hover label.sk-toggleable__label-arrow:before {color: black;}#sk-container-id-1 div.sk-toggleable__content {max-height: 0;max-width: 0;overflow: hidden;text-align: left;background-color: #f0f8ff;}#sk-container-id-1 div.sk-toggleable__content pre {margin: 0.2em;color: black;border-radius: 0.25em;background-color: #f0f8ff;}#sk-container-id-1 input.sk-toggleable__control:checked~div.sk-toggleable__content {max-height: 200px;max-width: 100%;overflow: auto;}#sk-container-id-1 input.sk-toggleable__control:checked~label.sk-toggleable__label-arrow:before {content: \"▾\";}#sk-container-id-1 div.sk-estimator input.sk-toggleable__control:checked~label.sk-toggleable__label {background-color: #d4ebff;}#sk-container-id-1 div.sk-label input.sk-toggleable__control:checked~label.sk-toggleable__label {background-color: #d4ebff;}#sk-container-id-1 input.sk-hidden--visually {border: 0;clip: rect(1px 1px 1px 1px);clip: rect(1px, 1px, 1px, 1px);height: 1px;margin: -1px;overflow: hidden;padding: 0;position: absolute;width: 1px;}#sk-container-id-1 div.sk-estimator {font-family: monospace;background-color: #f0f8ff;border: 1px dotted black;border-radius: 0.25em;box-sizing: border-box;margin-bottom: 0.5em;}#sk-container-id-1 div.sk-estimator:hover {background-color: #d4ebff;}#sk-container-id-1 div.sk-parallel-item::after {content: \"\";width: 100%;border-bottom: 1px solid gray;flex-grow: 1;}#sk-container-id-1 div.sk-label:hover label.sk-toggleable__label {background-color: #d4ebff;}#sk-container-id-1 div.sk-serial::before {content: \"\";position: absolute;border-left: 1px solid gray;box-sizing: border-box;top: 0;bottom: 0;left: 50%;z-index: 0;}#sk-container-id-1 div.sk-serial {display: flex;flex-direction: column;align-items: center;background-color: white;padding-right: 0.2em;padding-left: 0.2em;position: relative;}#sk-container-id-1 div.sk-item {position: relative;z-index: 1;}#sk-container-id-1 div.sk-parallel {display: flex;align-items: stretch;justify-content: center;background-color: white;position: relative;}#sk-container-id-1 div.sk-item::before, #sk-container-id-1 div.sk-parallel-item::before {content: \"\";position: absolute;border-left: 1px solid gray;box-sizing: border-box;top: 0;bottom: 0;left: 50%;z-index: -1;}#sk-container-id-1 div.sk-parallel-item {display: flex;flex-direction: column;z-index: 1;position: relative;background-color: white;}#sk-container-id-1 div.sk-parallel-item:first-child::after {align-self: flex-end;width: 50%;}#sk-container-id-1 div.sk-parallel-item:last-child::after {align-self: flex-start;width: 50%;}#sk-container-id-1 div.sk-parallel-item:only-child::after {width: 0;}#sk-container-id-1 div.sk-dashed-wrapped {border: 1px dashed gray;margin: 0 0.4em 0.5em 0.4em;box-sizing: border-box;padding-bottom: 0.4em;background-color: white;}#sk-container-id-1 div.sk-label label {font-family: monospace;font-weight: bold;display: inline-block;line-height: 1.2em;}#sk-container-id-1 div.sk-label-container {text-align: center;}#sk-container-id-1 div.sk-container {/* jupyter's `normalize.less` sets `[hidden] { display: none; }` but bootstrap.min.css set `[hidden] { display: none !important; }` so we also need the `!important` here to be able to override the default hidden behavior on the sphinx rendered scikit-learn.org. See: https://github.com/scikit-learn/scikit-learn/issues/21755 */display: inline-block !important;position: relative;}#sk-container-id-1 div.sk-text-repr-fallback {display: none;}</style><div id=\"sk-container-id-1\" class=\"sk-top-container\"><div class=\"sk-text-repr-fallback\"><pre>DecisionTreeClassifier()</pre><b>In a Jupyter environment, please rerun this cell to show the HTML representation or trust the notebook. <br />On GitHub, the HTML representation is unable to render, please try loading this page with nbviewer.org.</b></div><div class=\"sk-container\" hidden><div class=\"sk-item\"><div class=\"sk-estimator sk-toggleable\"><input class=\"sk-toggleable__control sk-hidden--visually\" id=\"sk-estimator-id-1\" type=\"checkbox\" checked><label for=\"sk-estimator-id-1\" class=\"sk-toggleable__label sk-toggleable__label-arrow\">DecisionTreeClassifier</label><div class=\"sk-toggleable__content\"><pre>DecisionTreeClassifier()</pre></div></div></div></div></div>"
      ],
      "text/plain": [
       "DecisionTreeClassifier()"
      ]
     },
     "execution_count": 78,
     "metadata": {},
     "output_type": "execute_result"
    }
   ],
   "source": [
    "dtree.fit(X_train,y_train)"
   ]
  },
  {
   "cell_type": "code",
   "execution_count": 79,
   "id": "2fd707ec",
   "metadata": {},
   "outputs": [],
   "source": [
    "predictions = dtree.predict(X_test)"
   ]
  },
  {
   "cell_type": "code",
   "execution_count": 80,
   "id": "a1dc93a6",
   "metadata": {},
   "outputs": [],
   "source": [
    "from sklearn.metrics import classification_report,confusion_matrix"
   ]
  },
  {
   "cell_type": "code",
   "execution_count": 81,
   "id": "28229f97",
   "metadata": {},
   "outputs": [
    {
     "name": "stdout",
     "output_type": "stream",
     "text": [
      "              precision    recall  f1-score   support\n",
      "\n",
      "           0       0.97      0.99      0.98       335\n",
      "           1       1.00      0.98      0.99       417\n",
      "\n",
      "    accuracy                           0.98       752\n",
      "   macro avg       0.98      0.99      0.98       752\n",
      "weighted avg       0.98      0.98      0.98       752\n",
      "\n"
     ]
    }
   ],
   "source": [
    "print(classification_report(y_test,predictions))"
   ]
  },
  {
   "cell_type": "code",
   "execution_count": 82,
   "id": "c33f19b9",
   "metadata": {},
   "outputs": [
    {
     "name": "stdout",
     "output_type": "stream",
     "text": [
      "[[333   2]\n",
      " [ 10 407]]\n"
     ]
    }
   ],
   "source": [
    "print(confusion_matrix(y_test,predictions))"
   ]
  },
  {
   "cell_type": "code",
   "execution_count": 83,
   "id": "c35fdc05",
   "metadata": {
    "scrolled": true
   },
   "outputs": [
    {
     "data": {
      "text/html": [
       "<style>#sk-container-id-2 {color: black;background-color: white;}#sk-container-id-2 pre{padding: 0;}#sk-container-id-2 div.sk-toggleable {background-color: white;}#sk-container-id-2 label.sk-toggleable__label {cursor: pointer;display: block;width: 100%;margin-bottom: 0;padding: 0.3em;box-sizing: border-box;text-align: center;}#sk-container-id-2 label.sk-toggleable__label-arrow:before {content: \"▸\";float: left;margin-right: 0.25em;color: #696969;}#sk-container-id-2 label.sk-toggleable__label-arrow:hover:before {color: black;}#sk-container-id-2 div.sk-estimator:hover label.sk-toggleable__label-arrow:before {color: black;}#sk-container-id-2 div.sk-toggleable__content {max-height: 0;max-width: 0;overflow: hidden;text-align: left;background-color: #f0f8ff;}#sk-container-id-2 div.sk-toggleable__content pre {margin: 0.2em;color: black;border-radius: 0.25em;background-color: #f0f8ff;}#sk-container-id-2 input.sk-toggleable__control:checked~div.sk-toggleable__content {max-height: 200px;max-width: 100%;overflow: auto;}#sk-container-id-2 input.sk-toggleable__control:checked~label.sk-toggleable__label-arrow:before {content: \"▾\";}#sk-container-id-2 div.sk-estimator input.sk-toggleable__control:checked~label.sk-toggleable__label {background-color: #d4ebff;}#sk-container-id-2 div.sk-label input.sk-toggleable__control:checked~label.sk-toggleable__label {background-color: #d4ebff;}#sk-container-id-2 input.sk-hidden--visually {border: 0;clip: rect(1px 1px 1px 1px);clip: rect(1px, 1px, 1px, 1px);height: 1px;margin: -1px;overflow: hidden;padding: 0;position: absolute;width: 1px;}#sk-container-id-2 div.sk-estimator {font-family: monospace;background-color: #f0f8ff;border: 1px dotted black;border-radius: 0.25em;box-sizing: border-box;margin-bottom: 0.5em;}#sk-container-id-2 div.sk-estimator:hover {background-color: #d4ebff;}#sk-container-id-2 div.sk-parallel-item::after {content: \"\";width: 100%;border-bottom: 1px solid gray;flex-grow: 1;}#sk-container-id-2 div.sk-label:hover label.sk-toggleable__label {background-color: #d4ebff;}#sk-container-id-2 div.sk-serial::before {content: \"\";position: absolute;border-left: 1px solid gray;box-sizing: border-box;top: 0;bottom: 0;left: 50%;z-index: 0;}#sk-container-id-2 div.sk-serial {display: flex;flex-direction: column;align-items: center;background-color: white;padding-right: 0.2em;padding-left: 0.2em;position: relative;}#sk-container-id-2 div.sk-item {position: relative;z-index: 1;}#sk-container-id-2 div.sk-parallel {display: flex;align-items: stretch;justify-content: center;background-color: white;position: relative;}#sk-container-id-2 div.sk-item::before, #sk-container-id-2 div.sk-parallel-item::before {content: \"\";position: absolute;border-left: 1px solid gray;box-sizing: border-box;top: 0;bottom: 0;left: 50%;z-index: -1;}#sk-container-id-2 div.sk-parallel-item {display: flex;flex-direction: column;z-index: 1;position: relative;background-color: white;}#sk-container-id-2 div.sk-parallel-item:first-child::after {align-self: flex-end;width: 50%;}#sk-container-id-2 div.sk-parallel-item:last-child::after {align-self: flex-start;width: 50%;}#sk-container-id-2 div.sk-parallel-item:only-child::after {width: 0;}#sk-container-id-2 div.sk-dashed-wrapped {border: 1px dashed gray;margin: 0 0.4em 0.5em 0.4em;box-sizing: border-box;padding-bottom: 0.4em;background-color: white;}#sk-container-id-2 div.sk-label label {font-family: monospace;font-weight: bold;display: inline-block;line-height: 1.2em;}#sk-container-id-2 div.sk-label-container {text-align: center;}#sk-container-id-2 div.sk-container {/* jupyter's `normalize.less` sets `[hidden] { display: none; }` but bootstrap.min.css set `[hidden] { display: none !important; }` so we also need the `!important` here to be able to override the default hidden behavior on the sphinx rendered scikit-learn.org. See: https://github.com/scikit-learn/scikit-learn/issues/21755 */display: inline-block !important;position: relative;}#sk-container-id-2 div.sk-text-repr-fallback {display: none;}</style><div id=\"sk-container-id-2\" class=\"sk-top-container\"><div class=\"sk-text-repr-fallback\"><pre>RandomForestClassifier()</pre><b>In a Jupyter environment, please rerun this cell to show the HTML representation or trust the notebook. <br />On GitHub, the HTML representation is unable to render, please try loading this page with nbviewer.org.</b></div><div class=\"sk-container\" hidden><div class=\"sk-item\"><div class=\"sk-estimator sk-toggleable\"><input class=\"sk-toggleable__control sk-hidden--visually\" id=\"sk-estimator-id-2\" type=\"checkbox\" checked><label for=\"sk-estimator-id-2\" class=\"sk-toggleable__label sk-toggleable__label-arrow\">RandomForestClassifier</label><div class=\"sk-toggleable__content\"><pre>RandomForestClassifier()</pre></div></div></div></div></div>"
      ],
      "text/plain": [
       "RandomForestClassifier()"
      ]
     },
     "execution_count": 83,
     "metadata": {},
     "output_type": "execute_result"
    }
   ],
   "source": [
    "from sklearn.ensemble import RandomForestClassifier\n",
    "rfc = RandomForestClassifier(n_estimators=100)\n",
    "rfc.fit(X_train, y_train)"
   ]
  },
  {
   "cell_type": "code",
   "execution_count": 84,
   "id": "eaa8ecc1",
   "metadata": {},
   "outputs": [],
   "source": [
    "rfc_pred = rfc.predict(X_test)"
   ]
  },
  {
   "cell_type": "code",
   "execution_count": 85,
   "id": "cb026e9a",
   "metadata": {},
   "outputs": [
    {
     "name": "stdout",
     "output_type": "stream",
     "text": [
      "[[335   0]\n",
      " [ 12 405]]\n"
     ]
    }
   ],
   "source": [
    "print(confusion_matrix(y_test,rfc_pred))"
   ]
  },
  {
   "cell_type": "code",
   "execution_count": 86,
   "id": "bd5fe024",
   "metadata": {},
   "outputs": [
    {
     "name": "stdout",
     "output_type": "stream",
     "text": [
      "              precision    recall  f1-score   support\n",
      "\n",
      "           0       0.97      1.00      0.98       335\n",
      "           1       1.00      0.97      0.99       417\n",
      "\n",
      "    accuracy                           0.98       752\n",
      "   macro avg       0.98      0.99      0.98       752\n",
      "weighted avg       0.98      0.98      0.98       752\n",
      "\n"
     ]
    }
   ],
   "source": [
    "print(classification_report(y_test,rfc_pred))"
   ]
  },
  {
   "cell_type": "code",
   "execution_count": 87,
   "id": "1269c285",
   "metadata": {},
   "outputs": [],
   "source": [
    "from sklearn.linear_model import LogisticRegression"
   ]
  },
  {
   "cell_type": "code",
   "execution_count": 88,
   "id": "88ad8958",
   "metadata": {},
   "outputs": [
    {
     "data": {
      "text/html": [
       "<style>#sk-container-id-3 {color: black;background-color: white;}#sk-container-id-3 pre{padding: 0;}#sk-container-id-3 div.sk-toggleable {background-color: white;}#sk-container-id-3 label.sk-toggleable__label {cursor: pointer;display: block;width: 100%;margin-bottom: 0;padding: 0.3em;box-sizing: border-box;text-align: center;}#sk-container-id-3 label.sk-toggleable__label-arrow:before {content: \"▸\";float: left;margin-right: 0.25em;color: #696969;}#sk-container-id-3 label.sk-toggleable__label-arrow:hover:before {color: black;}#sk-container-id-3 div.sk-estimator:hover label.sk-toggleable__label-arrow:before {color: black;}#sk-container-id-3 div.sk-toggleable__content {max-height: 0;max-width: 0;overflow: hidden;text-align: left;background-color: #f0f8ff;}#sk-container-id-3 div.sk-toggleable__content pre {margin: 0.2em;color: black;border-radius: 0.25em;background-color: #f0f8ff;}#sk-container-id-3 input.sk-toggleable__control:checked~div.sk-toggleable__content {max-height: 200px;max-width: 100%;overflow: auto;}#sk-container-id-3 input.sk-toggleable__control:checked~label.sk-toggleable__label-arrow:before {content: \"▾\";}#sk-container-id-3 div.sk-estimator input.sk-toggleable__control:checked~label.sk-toggleable__label {background-color: #d4ebff;}#sk-container-id-3 div.sk-label input.sk-toggleable__control:checked~label.sk-toggleable__label {background-color: #d4ebff;}#sk-container-id-3 input.sk-hidden--visually {border: 0;clip: rect(1px 1px 1px 1px);clip: rect(1px, 1px, 1px, 1px);height: 1px;margin: -1px;overflow: hidden;padding: 0;position: absolute;width: 1px;}#sk-container-id-3 div.sk-estimator {font-family: monospace;background-color: #f0f8ff;border: 1px dotted black;border-radius: 0.25em;box-sizing: border-box;margin-bottom: 0.5em;}#sk-container-id-3 div.sk-estimator:hover {background-color: #d4ebff;}#sk-container-id-3 div.sk-parallel-item::after {content: \"\";width: 100%;border-bottom: 1px solid gray;flex-grow: 1;}#sk-container-id-3 div.sk-label:hover label.sk-toggleable__label {background-color: #d4ebff;}#sk-container-id-3 div.sk-serial::before {content: \"\";position: absolute;border-left: 1px solid gray;box-sizing: border-box;top: 0;bottom: 0;left: 50%;z-index: 0;}#sk-container-id-3 div.sk-serial {display: flex;flex-direction: column;align-items: center;background-color: white;padding-right: 0.2em;padding-left: 0.2em;position: relative;}#sk-container-id-3 div.sk-item {position: relative;z-index: 1;}#sk-container-id-3 div.sk-parallel {display: flex;align-items: stretch;justify-content: center;background-color: white;position: relative;}#sk-container-id-3 div.sk-item::before, #sk-container-id-3 div.sk-parallel-item::before {content: \"\";position: absolute;border-left: 1px solid gray;box-sizing: border-box;top: 0;bottom: 0;left: 50%;z-index: -1;}#sk-container-id-3 div.sk-parallel-item {display: flex;flex-direction: column;z-index: 1;position: relative;background-color: white;}#sk-container-id-3 div.sk-parallel-item:first-child::after {align-self: flex-end;width: 50%;}#sk-container-id-3 div.sk-parallel-item:last-child::after {align-self: flex-start;width: 50%;}#sk-container-id-3 div.sk-parallel-item:only-child::after {width: 0;}#sk-container-id-3 div.sk-dashed-wrapped {border: 1px dashed gray;margin: 0 0.4em 0.5em 0.4em;box-sizing: border-box;padding-bottom: 0.4em;background-color: white;}#sk-container-id-3 div.sk-label label {font-family: monospace;font-weight: bold;display: inline-block;line-height: 1.2em;}#sk-container-id-3 div.sk-label-container {text-align: center;}#sk-container-id-3 div.sk-container {/* jupyter's `normalize.less` sets `[hidden] { display: none; }` but bootstrap.min.css set `[hidden] { display: none !important; }` so we also need the `!important` here to be able to override the default hidden behavior on the sphinx rendered scikit-learn.org. See: https://github.com/scikit-learn/scikit-learn/issues/21755 */display: inline-block !important;position: relative;}#sk-container-id-3 div.sk-text-repr-fallback {display: none;}</style><div id=\"sk-container-id-3\" class=\"sk-top-container\"><div class=\"sk-text-repr-fallback\"><pre>LogisticRegression()</pre><b>In a Jupyter environment, please rerun this cell to show the HTML representation or trust the notebook. <br />On GitHub, the HTML representation is unable to render, please try loading this page with nbviewer.org.</b></div><div class=\"sk-container\" hidden><div class=\"sk-item\"><div class=\"sk-estimator sk-toggleable\"><input class=\"sk-toggleable__control sk-hidden--visually\" id=\"sk-estimator-id-3\" type=\"checkbox\" checked><label for=\"sk-estimator-id-3\" class=\"sk-toggleable__label sk-toggleable__label-arrow\">LogisticRegression</label><div class=\"sk-toggleable__content\"><pre>LogisticRegression()</pre></div></div></div></div></div>"
      ],
      "text/plain": [
       "LogisticRegression()"
      ]
     },
     "execution_count": 88,
     "metadata": {},
     "output_type": "execute_result"
    }
   ],
   "source": [
    "logmodel = LogisticRegression()\n",
    "logmodel.fit(X_train,y_train)"
   ]
  },
  {
   "cell_type": "code",
   "execution_count": 89,
   "id": "c844ab9d",
   "metadata": {},
   "outputs": [],
   "source": [
    "predictions = logmodel.predict(X_test)"
   ]
  },
  {
   "cell_type": "code",
   "execution_count": 90,
   "id": "a28c4747",
   "metadata": {},
   "outputs": [
    {
     "data": {
      "text/plain": [
       "array([[318,  17],\n",
       "       [ 17, 400]], dtype=int64)"
      ]
     },
     "execution_count": 90,
     "metadata": {},
     "output_type": "execute_result"
    }
   ],
   "source": [
    "confusion_matrix(y_test,predictions)"
   ]
  },
  {
   "cell_type": "code",
   "execution_count": 91,
   "id": "e3635ef2",
   "metadata": {},
   "outputs": [
    {
     "name": "stdout",
     "output_type": "stream",
     "text": [
      "              precision    recall  f1-score   support\n",
      "\n",
      "           0       0.95      0.95      0.95       335\n",
      "           1       0.96      0.96      0.96       417\n",
      "\n",
      "    accuracy                           0.95       752\n",
      "   macro avg       0.95      0.95      0.95       752\n",
      "weighted avg       0.95      0.95      0.95       752\n",
      "\n"
     ]
    }
   ],
   "source": [
    "print(classification_report(y_test,predictions))"
   ]
  },
  {
   "cell_type": "code",
   "execution_count": 92,
   "id": "16c69b49",
   "metadata": {},
   "outputs": [],
   "source": [
    "from sklearn.neighbors import KNeighborsClassifier"
   ]
  },
  {
   "cell_type": "code",
   "execution_count": 93,
   "id": "42abe7aa",
   "metadata": {},
   "outputs": [],
   "source": [
    "knn = KNeighborsClassifier(n_neighbors=1)"
   ]
  },
  {
   "cell_type": "code",
   "execution_count": 94,
   "id": "e68b613e",
   "metadata": {},
   "outputs": [
    {
     "data": {
      "text/html": [
       "<style>#sk-container-id-4 {color: black;background-color: white;}#sk-container-id-4 pre{padding: 0;}#sk-container-id-4 div.sk-toggleable {background-color: white;}#sk-container-id-4 label.sk-toggleable__label {cursor: pointer;display: block;width: 100%;margin-bottom: 0;padding: 0.3em;box-sizing: border-box;text-align: center;}#sk-container-id-4 label.sk-toggleable__label-arrow:before {content: \"▸\";float: left;margin-right: 0.25em;color: #696969;}#sk-container-id-4 label.sk-toggleable__label-arrow:hover:before {color: black;}#sk-container-id-4 div.sk-estimator:hover label.sk-toggleable__label-arrow:before {color: black;}#sk-container-id-4 div.sk-toggleable__content {max-height: 0;max-width: 0;overflow: hidden;text-align: left;background-color: #f0f8ff;}#sk-container-id-4 div.sk-toggleable__content pre {margin: 0.2em;color: black;border-radius: 0.25em;background-color: #f0f8ff;}#sk-container-id-4 input.sk-toggleable__control:checked~div.sk-toggleable__content {max-height: 200px;max-width: 100%;overflow: auto;}#sk-container-id-4 input.sk-toggleable__control:checked~label.sk-toggleable__label-arrow:before {content: \"▾\";}#sk-container-id-4 div.sk-estimator input.sk-toggleable__control:checked~label.sk-toggleable__label {background-color: #d4ebff;}#sk-container-id-4 div.sk-label input.sk-toggleable__control:checked~label.sk-toggleable__label {background-color: #d4ebff;}#sk-container-id-4 input.sk-hidden--visually {border: 0;clip: rect(1px 1px 1px 1px);clip: rect(1px, 1px, 1px, 1px);height: 1px;margin: -1px;overflow: hidden;padding: 0;position: absolute;width: 1px;}#sk-container-id-4 div.sk-estimator {font-family: monospace;background-color: #f0f8ff;border: 1px dotted black;border-radius: 0.25em;box-sizing: border-box;margin-bottom: 0.5em;}#sk-container-id-4 div.sk-estimator:hover {background-color: #d4ebff;}#sk-container-id-4 div.sk-parallel-item::after {content: \"\";width: 100%;border-bottom: 1px solid gray;flex-grow: 1;}#sk-container-id-4 div.sk-label:hover label.sk-toggleable__label {background-color: #d4ebff;}#sk-container-id-4 div.sk-serial::before {content: \"\";position: absolute;border-left: 1px solid gray;box-sizing: border-box;top: 0;bottom: 0;left: 50%;z-index: 0;}#sk-container-id-4 div.sk-serial {display: flex;flex-direction: column;align-items: center;background-color: white;padding-right: 0.2em;padding-left: 0.2em;position: relative;}#sk-container-id-4 div.sk-item {position: relative;z-index: 1;}#sk-container-id-4 div.sk-parallel {display: flex;align-items: stretch;justify-content: center;background-color: white;position: relative;}#sk-container-id-4 div.sk-item::before, #sk-container-id-4 div.sk-parallel-item::before {content: \"\";position: absolute;border-left: 1px solid gray;box-sizing: border-box;top: 0;bottom: 0;left: 50%;z-index: -1;}#sk-container-id-4 div.sk-parallel-item {display: flex;flex-direction: column;z-index: 1;position: relative;background-color: white;}#sk-container-id-4 div.sk-parallel-item:first-child::after {align-self: flex-end;width: 50%;}#sk-container-id-4 div.sk-parallel-item:last-child::after {align-self: flex-start;width: 50%;}#sk-container-id-4 div.sk-parallel-item:only-child::after {width: 0;}#sk-container-id-4 div.sk-dashed-wrapped {border: 1px dashed gray;margin: 0 0.4em 0.5em 0.4em;box-sizing: border-box;padding-bottom: 0.4em;background-color: white;}#sk-container-id-4 div.sk-label label {font-family: monospace;font-weight: bold;display: inline-block;line-height: 1.2em;}#sk-container-id-4 div.sk-label-container {text-align: center;}#sk-container-id-4 div.sk-container {/* jupyter's `normalize.less` sets `[hidden] { display: none; }` but bootstrap.min.css set `[hidden] { display: none !important; }` so we also need the `!important` here to be able to override the default hidden behavior on the sphinx rendered scikit-learn.org. See: https://github.com/scikit-learn/scikit-learn/issues/21755 */display: inline-block !important;position: relative;}#sk-container-id-4 div.sk-text-repr-fallback {display: none;}</style><div id=\"sk-container-id-4\" class=\"sk-top-container\"><div class=\"sk-text-repr-fallback\"><pre>KNeighborsClassifier(n_neighbors=1)</pre><b>In a Jupyter environment, please rerun this cell to show the HTML representation or trust the notebook. <br />On GitHub, the HTML representation is unable to render, please try loading this page with nbviewer.org.</b></div><div class=\"sk-container\" hidden><div class=\"sk-item\"><div class=\"sk-estimator sk-toggleable\"><input class=\"sk-toggleable__control sk-hidden--visually\" id=\"sk-estimator-id-4\" type=\"checkbox\" checked><label for=\"sk-estimator-id-4\" class=\"sk-toggleable__label sk-toggleable__label-arrow\">KNeighborsClassifier</label><div class=\"sk-toggleable__content\"><pre>KNeighborsClassifier(n_neighbors=1)</pre></div></div></div></div></div>"
      ],
      "text/plain": [
       "KNeighborsClassifier(n_neighbors=1)"
      ]
     },
     "execution_count": 94,
     "metadata": {},
     "output_type": "execute_result"
    }
   ],
   "source": [
    "knn.fit(X_train,y_train)"
   ]
  },
  {
   "cell_type": "code",
   "execution_count": 95,
   "id": "b6caaf8c",
   "metadata": {},
   "outputs": [],
   "source": [
    "pred = knn.predict(X_test)"
   ]
  },
  {
   "cell_type": "code",
   "execution_count": 96,
   "id": "2e24b3ec",
   "metadata": {},
   "outputs": [
    {
     "name": "stdout",
     "output_type": "stream",
     "text": [
      "[[305  30]\n",
      " [  1 416]]\n"
     ]
    }
   ],
   "source": [
    "print(confusion_matrix(y_test,pred))"
   ]
  },
  {
   "cell_type": "code",
   "execution_count": 97,
   "id": "a12c8c10",
   "metadata": {},
   "outputs": [
    {
     "name": "stdout",
     "output_type": "stream",
     "text": [
      "              precision    recall  f1-score   support\n",
      "\n",
      "           0       1.00      0.91      0.95       335\n",
      "           1       0.93      1.00      0.96       417\n",
      "\n",
      "    accuracy                           0.96       752\n",
      "   macro avg       0.96      0.95      0.96       752\n",
      "weighted avg       0.96      0.96      0.96       752\n",
      "\n"
     ]
    }
   ],
   "source": [
    "print(classification_report(y_test,pred))"
   ]
  },
  {
   "cell_type": "code",
   "execution_count": null,
   "id": "eb3062f9",
   "metadata": {},
   "outputs": [],
   "source": [
    "############ END Target 1 ###############"
   ]
  },
  {
   "cell_type": "code",
   "execution_count": null,
   "id": "2d900e4e",
   "metadata": {},
   "outputs": [],
   "source": []
  },
  {
   "cell_type": "code",
   "execution_count": null,
   "id": "de38d670",
   "metadata": {},
   "outputs": [],
   "source": [
    "############ START Target 2 ###############"
   ]
  },
  {
   "cell_type": "code",
   "execution_count": 164,
   "id": "617b1b70",
   "metadata": {},
   "outputs": [],
   "source": [
    "data = pd.read_csv(\"pathrise_new.csv\")"
   ]
  },
  {
   "cell_type": "code",
   "execution_count": 165,
   "id": "49929ed7",
   "metadata": {},
   "outputs": [],
   "source": [
    "data.drop('Unnamed: 0',axis=1,inplace=True)"
   ]
  },
  {
   "cell_type": "code",
   "execution_count": 166,
   "id": "fd7d5028",
   "metadata": {},
   "outputs": [
    {
     "data": {
      "text/html": [
       "<div>\n",
       "<style scoped>\n",
       "    .dataframe tbody tr th:only-of-type {\n",
       "        vertical-align: middle;\n",
       "    }\n",
       "\n",
       "    .dataframe tbody tr th {\n",
       "        vertical-align: top;\n",
       "    }\n",
       "\n",
       "    .dataframe thead th {\n",
       "        text-align: right;\n",
       "    }\n",
       "</style>\n",
       "<table border=\"1\" class=\"dataframe\">\n",
       "  <thead>\n",
       "    <tr style=\"text-align: right;\">\n",
       "      <th></th>\n",
       "      <th>pathrise_status</th>\n",
       "      <th>program_duration_days</th>\n",
       "      <th>placed</th>\n",
       "      <th>number_of_interviews</th>\n",
       "      <th>number_of_applications</th>\n",
       "      <th>Design</th>\n",
       "      <th>Marketing</th>\n",
       "      <th>PSO</th>\n",
       "      <th>SWE</th>\n",
       "      <th>Web</th>\n",
       "      <th>...</th>\n",
       "      <th>Other</th>\n",
       "      <th>STEM OPT</th>\n",
       "      <th>Decline to Self Identify</th>\n",
       "      <th>East Asian or Asian American</th>\n",
       "      <th>Latino or Hispanic American</th>\n",
       "      <th>Middle Eastern or Arab American</th>\n",
       "      <th>Native American or Alaskan Native</th>\n",
       "      <th>Non-Hispanic White or Euro-American</th>\n",
       "      <th>South Asian or Indian American</th>\n",
       "      <th>Two or More Races</th>\n",
       "    </tr>\n",
       "  </thead>\n",
       "  <tbody>\n",
       "    <tr>\n",
       "      <th>0</th>\n",
       "      <td>0</td>\n",
       "      <td>0.0</td>\n",
       "      <td>0</td>\n",
       "      <td>2.0</td>\n",
       "      <td>900</td>\n",
       "      <td>0</td>\n",
       "      <td>0</td>\n",
       "      <td>0</td>\n",
       "      <td>1</td>\n",
       "      <td>0</td>\n",
       "      <td>...</td>\n",
       "      <td>0</td>\n",
       "      <td>0</td>\n",
       "      <td>0</td>\n",
       "      <td>0</td>\n",
       "      <td>0</td>\n",
       "      <td>0</td>\n",
       "      <td>0</td>\n",
       "      <td>1</td>\n",
       "      <td>0</td>\n",
       "      <td>0</td>\n",
       "    </tr>\n",
       "    <tr>\n",
       "      <th>1</th>\n",
       "      <td>0</td>\n",
       "      <td>0.0</td>\n",
       "      <td>0</td>\n",
       "      <td>6.0</td>\n",
       "      <td>0</td>\n",
       "      <td>0</td>\n",
       "      <td>0</td>\n",
       "      <td>1</td>\n",
       "      <td>0</td>\n",
       "      <td>0</td>\n",
       "      <td>...</td>\n",
       "      <td>0</td>\n",
       "      <td>0</td>\n",
       "      <td>0</td>\n",
       "      <td>0</td>\n",
       "      <td>0</td>\n",
       "      <td>0</td>\n",
       "      <td>0</td>\n",
       "      <td>1</td>\n",
       "      <td>0</td>\n",
       "      <td>0</td>\n",
       "    </tr>\n",
       "    <tr>\n",
       "      <th>2</th>\n",
       "      <td>0</td>\n",
       "      <td>0.0</td>\n",
       "      <td>0</td>\n",
       "      <td>0.0</td>\n",
       "      <td>0</td>\n",
       "      <td>1</td>\n",
       "      <td>0</td>\n",
       "      <td>0</td>\n",
       "      <td>0</td>\n",
       "      <td>0</td>\n",
       "      <td>...</td>\n",
       "      <td>0</td>\n",
       "      <td>0</td>\n",
       "      <td>0</td>\n",
       "      <td>1</td>\n",
       "      <td>0</td>\n",
       "      <td>0</td>\n",
       "      <td>0</td>\n",
       "      <td>0</td>\n",
       "      <td>0</td>\n",
       "      <td>0</td>\n",
       "    </tr>\n",
       "    <tr>\n",
       "      <th>3</th>\n",
       "      <td>0</td>\n",
       "      <td>0.0</td>\n",
       "      <td>0</td>\n",
       "      <td>5.0</td>\n",
       "      <td>25</td>\n",
       "      <td>0</td>\n",
       "      <td>0</td>\n",
       "      <td>1</td>\n",
       "      <td>0</td>\n",
       "      <td>0</td>\n",
       "      <td>...</td>\n",
       "      <td>0</td>\n",
       "      <td>0</td>\n",
       "      <td>1</td>\n",
       "      <td>0</td>\n",
       "      <td>0</td>\n",
       "      <td>0</td>\n",
       "      <td>0</td>\n",
       "      <td>0</td>\n",
       "      <td>0</td>\n",
       "      <td>0</td>\n",
       "    </tr>\n",
       "    <tr>\n",
       "      <th>4</th>\n",
       "      <td>1</td>\n",
       "      <td>89.0</td>\n",
       "      <td>1</td>\n",
       "      <td>10.0</td>\n",
       "      <td>100</td>\n",
       "      <td>0</td>\n",
       "      <td>0</td>\n",
       "      <td>0</td>\n",
       "      <td>1</td>\n",
       "      <td>0</td>\n",
       "      <td>...</td>\n",
       "      <td>0</td>\n",
       "      <td>0</td>\n",
       "      <td>0</td>\n",
       "      <td>1</td>\n",
       "      <td>0</td>\n",
       "      <td>0</td>\n",
       "      <td>0</td>\n",
       "      <td>0</td>\n",
       "      <td>0</td>\n",
       "      <td>0</td>\n",
       "    </tr>\n",
       "    <tr>\n",
       "      <th>...</th>\n",
       "      <td>...</td>\n",
       "      <td>...</td>\n",
       "      <td>...</td>\n",
       "      <td>...</td>\n",
       "      <td>...</td>\n",
       "      <td>...</td>\n",
       "      <td>...</td>\n",
       "      <td>...</td>\n",
       "      <td>...</td>\n",
       "      <td>...</td>\n",
       "      <td>...</td>\n",
       "      <td>...</td>\n",
       "      <td>...</td>\n",
       "      <td>...</td>\n",
       "      <td>...</td>\n",
       "      <td>...</td>\n",
       "      <td>...</td>\n",
       "      <td>...</td>\n",
       "      <td>...</td>\n",
       "      <td>...</td>\n",
       "      <td>...</td>\n",
       "    </tr>\n",
       "    <tr>\n",
       "      <th>2499</th>\n",
       "      <td>1</td>\n",
       "      <td>457.0</td>\n",
       "      <td>0</td>\n",
       "      <td>4.0</td>\n",
       "      <td>15</td>\n",
       "      <td>1</td>\n",
       "      <td>0</td>\n",
       "      <td>0</td>\n",
       "      <td>0</td>\n",
       "      <td>0</td>\n",
       "      <td>...</td>\n",
       "      <td>0</td>\n",
       "      <td>0</td>\n",
       "      <td>0</td>\n",
       "      <td>0</td>\n",
       "      <td>0</td>\n",
       "      <td>0</td>\n",
       "      <td>0</td>\n",
       "      <td>1</td>\n",
       "      <td>0</td>\n",
       "      <td>0</td>\n",
       "    </tr>\n",
       "    <tr>\n",
       "      <th>2500</th>\n",
       "      <td>1</td>\n",
       "      <td>488.0</td>\n",
       "      <td>0</td>\n",
       "      <td>1.0</td>\n",
       "      <td>7</td>\n",
       "      <td>0</td>\n",
       "      <td>0</td>\n",
       "      <td>0</td>\n",
       "      <td>0</td>\n",
       "      <td>0</td>\n",
       "      <td>...</td>\n",
       "      <td>0</td>\n",
       "      <td>0</td>\n",
       "      <td>0</td>\n",
       "      <td>0</td>\n",
       "      <td>0</td>\n",
       "      <td>0</td>\n",
       "      <td>0</td>\n",
       "      <td>1</td>\n",
       "      <td>0</td>\n",
       "      <td>0</td>\n",
       "    </tr>\n",
       "    <tr>\n",
       "      <th>2501</th>\n",
       "      <td>0</td>\n",
       "      <td>0.0</td>\n",
       "      <td>0</td>\n",
       "      <td>1.0</td>\n",
       "      <td>30</td>\n",
       "      <td>0</td>\n",
       "      <td>0</td>\n",
       "      <td>0</td>\n",
       "      <td>1</td>\n",
       "      <td>0</td>\n",
       "      <td>...</td>\n",
       "      <td>0</td>\n",
       "      <td>0</td>\n",
       "      <td>0</td>\n",
       "      <td>0</td>\n",
       "      <td>0</td>\n",
       "      <td>0</td>\n",
       "      <td>0</td>\n",
       "      <td>1</td>\n",
       "      <td>0</td>\n",
       "      <td>0</td>\n",
       "    </tr>\n",
       "    <tr>\n",
       "      <th>2502</th>\n",
       "      <td>0</td>\n",
       "      <td>0.0</td>\n",
       "      <td>0</td>\n",
       "      <td>2.0</td>\n",
       "      <td>10</td>\n",
       "      <td>0</td>\n",
       "      <td>0</td>\n",
       "      <td>0</td>\n",
       "      <td>1</td>\n",
       "      <td>0</td>\n",
       "      <td>...</td>\n",
       "      <td>0</td>\n",
       "      <td>0</td>\n",
       "      <td>1</td>\n",
       "      <td>0</td>\n",
       "      <td>0</td>\n",
       "      <td>0</td>\n",
       "      <td>0</td>\n",
       "      <td>0</td>\n",
       "      <td>0</td>\n",
       "      <td>0</td>\n",
       "    </tr>\n",
       "    <tr>\n",
       "      <th>2503</th>\n",
       "      <td>1</td>\n",
       "      <td>285.0</td>\n",
       "      <td>0</td>\n",
       "      <td>3.0</td>\n",
       "      <td>70</td>\n",
       "      <td>0</td>\n",
       "      <td>0</td>\n",
       "      <td>0</td>\n",
       "      <td>1</td>\n",
       "      <td>0</td>\n",
       "      <td>...</td>\n",
       "      <td>0</td>\n",
       "      <td>0</td>\n",
       "      <td>0</td>\n",
       "      <td>0</td>\n",
       "      <td>0</td>\n",
       "      <td>0</td>\n",
       "      <td>0</td>\n",
       "      <td>1</td>\n",
       "      <td>0</td>\n",
       "      <td>0</td>\n",
       "    </tr>\n",
       "  </tbody>\n",
       "</table>\n",
       "<p>2504 rows × 56 columns</p>\n",
       "</div>"
      ],
      "text/plain": [
       "      pathrise_status  program_duration_days  placed  number_of_interviews  \\\n",
       "0                   0                    0.0       0                   2.0   \n",
       "1                   0                    0.0       0                   6.0   \n",
       "2                   0                    0.0       0                   0.0   \n",
       "3                   0                    0.0       0                   5.0   \n",
       "4                   1                   89.0       1                  10.0   \n",
       "...               ...                    ...     ...                   ...   \n",
       "2499                1                  457.0       0                   4.0   \n",
       "2500                1                  488.0       0                   1.0   \n",
       "2501                0                    0.0       0                   1.0   \n",
       "2502                0                    0.0       0                   2.0   \n",
       "2503                1                  285.0       0                   3.0   \n",
       "\n",
       "      number_of_applications  Design  Marketing  PSO  SWE  Web  ...  Other  \\\n",
       "0                        900       0          0    0    1    0  ...      0   \n",
       "1                          0       0          0    1    0    0  ...      0   \n",
       "2                          0       1          0    0    0    0  ...      0   \n",
       "3                         25       0          0    1    0    0  ...      0   \n",
       "4                        100       0          0    0    1    0  ...      0   \n",
       "...                      ...     ...        ...  ...  ...  ...  ...    ...   \n",
       "2499                      15       1          0    0    0    0  ...      0   \n",
       "2500                       7       0          0    0    0    0  ...      0   \n",
       "2501                      30       0          0    0    1    0  ...      0   \n",
       "2502                      10       0          0    0    1    0  ...      0   \n",
       "2503                      70       0          0    0    1    0  ...      0   \n",
       "\n",
       "      STEM OPT  Decline to Self Identify  East Asian or Asian American  \\\n",
       "0            0                         0                             0   \n",
       "1            0                         0                             0   \n",
       "2            0                         0                             1   \n",
       "3            0                         1                             0   \n",
       "4            0                         0                             1   \n",
       "...        ...                       ...                           ...   \n",
       "2499         0                         0                             0   \n",
       "2500         0                         0                             0   \n",
       "2501         0                         0                             0   \n",
       "2502         0                         1                             0   \n",
       "2503         0                         0                             0   \n",
       "\n",
       "      Latino or Hispanic American  Middle Eastern or Arab American  \\\n",
       "0                               0                                0   \n",
       "1                               0                                0   \n",
       "2                               0                                0   \n",
       "3                               0                                0   \n",
       "4                               0                                0   \n",
       "...                           ...                              ...   \n",
       "2499                            0                                0   \n",
       "2500                            0                                0   \n",
       "2501                            0                                0   \n",
       "2502                            0                                0   \n",
       "2503                            0                                0   \n",
       "\n",
       "      Native American or Alaskan Native  Non-Hispanic White or Euro-American  \\\n",
       "0                                     0                                    1   \n",
       "1                                     0                                    1   \n",
       "2                                     0                                    0   \n",
       "3                                     0                                    0   \n",
       "4                                     0                                    0   \n",
       "...                                 ...                                  ...   \n",
       "2499                                  0                                    1   \n",
       "2500                                  0                                    1   \n",
       "2501                                  0                                    1   \n",
       "2502                                  0                                    0   \n",
       "2503                                  0                                    1   \n",
       "\n",
       "      South Asian or Indian American  Two or More Races  \n",
       "0                                  0                  0  \n",
       "1                                  0                  0  \n",
       "2                                  0                  0  \n",
       "3                                  0                  0  \n",
       "4                                  0                  0  \n",
       "...                              ...                ...  \n",
       "2499                               0                  0  \n",
       "2500                               0                  0  \n",
       "2501                               0                  0  \n",
       "2502                               0                  0  \n",
       "2503                               0                  0  \n",
       "\n",
       "[2504 rows x 56 columns]"
      ]
     },
     "execution_count": 166,
     "metadata": {},
     "output_type": "execute_result"
    }
   ],
   "source": [
    "data"
   ]
  },
  {
   "cell_type": "code",
   "execution_count": 170,
   "id": "6eb0dfaa",
   "metadata": {},
   "outputs": [
    {
     "data": {
      "text/html": [
       "<div>\n",
       "<style scoped>\n",
       "    .dataframe tbody tr th:only-of-type {\n",
       "        vertical-align: middle;\n",
       "    }\n",
       "\n",
       "    .dataframe tbody tr th {\n",
       "        vertical-align: top;\n",
       "    }\n",
       "\n",
       "    .dataframe thead th {\n",
       "        text-align: right;\n",
       "    }\n",
       "</style>\n",
       "<table border=\"1\" class=\"dataframe\">\n",
       "  <thead>\n",
       "    <tr style=\"text-align: right;\">\n",
       "      <th></th>\n",
       "      <th>pathrise_status</th>\n",
       "      <th>program_duration_days</th>\n",
       "      <th>placed</th>\n",
       "      <th>number_of_interviews</th>\n",
       "      <th>number_of_applications</th>\n",
       "      <th>Design</th>\n",
       "      <th>Marketing</th>\n",
       "      <th>PSO</th>\n",
       "      <th>SWE</th>\n",
       "      <th>Web</th>\n",
       "      <th>...</th>\n",
       "      <th>Other</th>\n",
       "      <th>STEM OPT</th>\n",
       "      <th>Decline to Self Identify</th>\n",
       "      <th>East Asian or Asian American</th>\n",
       "      <th>Latino or Hispanic American</th>\n",
       "      <th>Middle Eastern or Arab American</th>\n",
       "      <th>Native American or Alaskan Native</th>\n",
       "      <th>Non-Hispanic White or Euro-American</th>\n",
       "      <th>South Asian or Indian American</th>\n",
       "      <th>Two or More Races</th>\n",
       "    </tr>\n",
       "  </thead>\n",
       "  <tbody>\n",
       "    <tr>\n",
       "      <th>4</th>\n",
       "      <td>1</td>\n",
       "      <td>89.0</td>\n",
       "      <td>1</td>\n",
       "      <td>10.0</td>\n",
       "      <td>100</td>\n",
       "      <td>0</td>\n",
       "      <td>0</td>\n",
       "      <td>0</td>\n",
       "      <td>1</td>\n",
       "      <td>0</td>\n",
       "      <td>...</td>\n",
       "      <td>0</td>\n",
       "      <td>0</td>\n",
       "      <td>0</td>\n",
       "      <td>1</td>\n",
       "      <td>0</td>\n",
       "      <td>0</td>\n",
       "      <td>0</td>\n",
       "      <td>0</td>\n",
       "      <td>0</td>\n",
       "      <td>0</td>\n",
       "    </tr>\n",
       "    <tr>\n",
       "      <th>7</th>\n",
       "      <td>1</td>\n",
       "      <td>19.0</td>\n",
       "      <td>0</td>\n",
       "      <td>4.0</td>\n",
       "      <td>15</td>\n",
       "      <td>0</td>\n",
       "      <td>0</td>\n",
       "      <td>0</td>\n",
       "      <td>1</td>\n",
       "      <td>0</td>\n",
       "      <td>...</td>\n",
       "      <td>0</td>\n",
       "      <td>0</td>\n",
       "      <td>0</td>\n",
       "      <td>0</td>\n",
       "      <td>1</td>\n",
       "      <td>0</td>\n",
       "      <td>0</td>\n",
       "      <td>0</td>\n",
       "      <td>0</td>\n",
       "      <td>0</td>\n",
       "    </tr>\n",
       "    <tr>\n",
       "      <th>11</th>\n",
       "      <td>1</td>\n",
       "      <td>158.0</td>\n",
       "      <td>0</td>\n",
       "      <td>5.0</td>\n",
       "      <td>50</td>\n",
       "      <td>0</td>\n",
       "      <td>0</td>\n",
       "      <td>0</td>\n",
       "      <td>0</td>\n",
       "      <td>0</td>\n",
       "      <td>...</td>\n",
       "      <td>0</td>\n",
       "      <td>0</td>\n",
       "      <td>1</td>\n",
       "      <td>0</td>\n",
       "      <td>0</td>\n",
       "      <td>0</td>\n",
       "      <td>0</td>\n",
       "      <td>0</td>\n",
       "      <td>0</td>\n",
       "      <td>0</td>\n",
       "    </tr>\n",
       "    <tr>\n",
       "      <th>13</th>\n",
       "      <td>1</td>\n",
       "      <td>52.0</td>\n",
       "      <td>0</td>\n",
       "      <td>4.0</td>\n",
       "      <td>40</td>\n",
       "      <td>0</td>\n",
       "      <td>0</td>\n",
       "      <td>1</td>\n",
       "      <td>0</td>\n",
       "      <td>0</td>\n",
       "      <td>...</td>\n",
       "      <td>0</td>\n",
       "      <td>0</td>\n",
       "      <td>0</td>\n",
       "      <td>0</td>\n",
       "      <td>0</td>\n",
       "      <td>0</td>\n",
       "      <td>0</td>\n",
       "      <td>1</td>\n",
       "      <td>0</td>\n",
       "      <td>0</td>\n",
       "    </tr>\n",
       "    <tr>\n",
       "      <th>22</th>\n",
       "      <td>1</td>\n",
       "      <td>93.0</td>\n",
       "      <td>0</td>\n",
       "      <td>1.0</td>\n",
       "      <td>10</td>\n",
       "      <td>0</td>\n",
       "      <td>0</td>\n",
       "      <td>0</td>\n",
       "      <td>1</td>\n",
       "      <td>0</td>\n",
       "      <td>...</td>\n",
       "      <td>0</td>\n",
       "      <td>0</td>\n",
       "      <td>0</td>\n",
       "      <td>1</td>\n",
       "      <td>0</td>\n",
       "      <td>0</td>\n",
       "      <td>0</td>\n",
       "      <td>0</td>\n",
       "      <td>0</td>\n",
       "      <td>0</td>\n",
       "    </tr>\n",
       "    <tr>\n",
       "      <th>...</th>\n",
       "      <td>...</td>\n",
       "      <td>...</td>\n",
       "      <td>...</td>\n",
       "      <td>...</td>\n",
       "      <td>...</td>\n",
       "      <td>...</td>\n",
       "      <td>...</td>\n",
       "      <td>...</td>\n",
       "      <td>...</td>\n",
       "      <td>...</td>\n",
       "      <td>...</td>\n",
       "      <td>...</td>\n",
       "      <td>...</td>\n",
       "      <td>...</td>\n",
       "      <td>...</td>\n",
       "      <td>...</td>\n",
       "      <td>...</td>\n",
       "      <td>...</td>\n",
       "      <td>...</td>\n",
       "      <td>...</td>\n",
       "      <td>...</td>\n",
       "    </tr>\n",
       "    <tr>\n",
       "      <th>2494</th>\n",
       "      <td>1</td>\n",
       "      <td>119.0</td>\n",
       "      <td>1</td>\n",
       "      <td>0.0</td>\n",
       "      <td>10</td>\n",
       "      <td>0</td>\n",
       "      <td>0</td>\n",
       "      <td>0</td>\n",
       "      <td>1</td>\n",
       "      <td>0</td>\n",
       "      <td>...</td>\n",
       "      <td>0</td>\n",
       "      <td>0</td>\n",
       "      <td>0</td>\n",
       "      <td>0</td>\n",
       "      <td>0</td>\n",
       "      <td>0</td>\n",
       "      <td>0</td>\n",
       "      <td>0</td>\n",
       "      <td>1</td>\n",
       "      <td>0</td>\n",
       "    </tr>\n",
       "    <tr>\n",
       "      <th>2498</th>\n",
       "      <td>1</td>\n",
       "      <td>118.0</td>\n",
       "      <td>0</td>\n",
       "      <td>1.0</td>\n",
       "      <td>25</td>\n",
       "      <td>0</td>\n",
       "      <td>0</td>\n",
       "      <td>0</td>\n",
       "      <td>1</td>\n",
       "      <td>0</td>\n",
       "      <td>...</td>\n",
       "      <td>1</td>\n",
       "      <td>0</td>\n",
       "      <td>0</td>\n",
       "      <td>0</td>\n",
       "      <td>0</td>\n",
       "      <td>1</td>\n",
       "      <td>0</td>\n",
       "      <td>0</td>\n",
       "      <td>0</td>\n",
       "      <td>0</td>\n",
       "    </tr>\n",
       "    <tr>\n",
       "      <th>2499</th>\n",
       "      <td>1</td>\n",
       "      <td>457.0</td>\n",
       "      <td>0</td>\n",
       "      <td>4.0</td>\n",
       "      <td>15</td>\n",
       "      <td>1</td>\n",
       "      <td>0</td>\n",
       "      <td>0</td>\n",
       "      <td>0</td>\n",
       "      <td>0</td>\n",
       "      <td>...</td>\n",
       "      <td>0</td>\n",
       "      <td>0</td>\n",
       "      <td>0</td>\n",
       "      <td>0</td>\n",
       "      <td>0</td>\n",
       "      <td>0</td>\n",
       "      <td>0</td>\n",
       "      <td>1</td>\n",
       "      <td>0</td>\n",
       "      <td>0</td>\n",
       "    </tr>\n",
       "    <tr>\n",
       "      <th>2500</th>\n",
       "      <td>1</td>\n",
       "      <td>488.0</td>\n",
       "      <td>0</td>\n",
       "      <td>1.0</td>\n",
       "      <td>7</td>\n",
       "      <td>0</td>\n",
       "      <td>0</td>\n",
       "      <td>0</td>\n",
       "      <td>0</td>\n",
       "      <td>0</td>\n",
       "      <td>...</td>\n",
       "      <td>0</td>\n",
       "      <td>0</td>\n",
       "      <td>0</td>\n",
       "      <td>0</td>\n",
       "      <td>0</td>\n",
       "      <td>0</td>\n",
       "      <td>0</td>\n",
       "      <td>1</td>\n",
       "      <td>0</td>\n",
       "      <td>0</td>\n",
       "    </tr>\n",
       "    <tr>\n",
       "      <th>2503</th>\n",
       "      <td>1</td>\n",
       "      <td>285.0</td>\n",
       "      <td>0</td>\n",
       "      <td>3.0</td>\n",
       "      <td>70</td>\n",
       "      <td>0</td>\n",
       "      <td>0</td>\n",
       "      <td>0</td>\n",
       "      <td>1</td>\n",
       "      <td>0</td>\n",
       "      <td>...</td>\n",
       "      <td>0</td>\n",
       "      <td>0</td>\n",
       "      <td>0</td>\n",
       "      <td>0</td>\n",
       "      <td>0</td>\n",
       "      <td>0</td>\n",
       "      <td>0</td>\n",
       "      <td>1</td>\n",
       "      <td>0</td>\n",
       "      <td>0</td>\n",
       "    </tr>\n",
       "  </tbody>\n",
       "</table>\n",
       "<p>1396 rows × 56 columns</p>\n",
       "</div>"
      ],
      "text/plain": [
       "      pathrise_status  program_duration_days  placed  number_of_interviews  \\\n",
       "4                   1                   89.0       1                  10.0   \n",
       "7                   1                   19.0       0                   4.0   \n",
       "11                  1                  158.0       0                   5.0   \n",
       "13                  1                   52.0       0                   4.0   \n",
       "22                  1                   93.0       0                   1.0   \n",
       "...               ...                    ...     ...                   ...   \n",
       "2494                1                  119.0       1                   0.0   \n",
       "2498                1                  118.0       0                   1.0   \n",
       "2499                1                  457.0       0                   4.0   \n",
       "2500                1                  488.0       0                   1.0   \n",
       "2503                1                  285.0       0                   3.0   \n",
       "\n",
       "      number_of_applications  Design  Marketing  PSO  SWE  Web  ...  Other  \\\n",
       "4                        100       0          0    0    1    0  ...      0   \n",
       "7                         15       0          0    0    1    0  ...      0   \n",
       "11                        50       0          0    0    0    0  ...      0   \n",
       "13                        40       0          0    1    0    0  ...      0   \n",
       "22                        10       0          0    0    1    0  ...      0   \n",
       "...                      ...     ...        ...  ...  ...  ...  ...    ...   \n",
       "2494                      10       0          0    0    1    0  ...      0   \n",
       "2498                      25       0          0    0    1    0  ...      1   \n",
       "2499                      15       1          0    0    0    0  ...      0   \n",
       "2500                       7       0          0    0    0    0  ...      0   \n",
       "2503                      70       0          0    0    1    0  ...      0   \n",
       "\n",
       "      STEM OPT  Decline to Self Identify  East Asian or Asian American  \\\n",
       "4            0                         0                             1   \n",
       "7            0                         0                             0   \n",
       "11           0                         1                             0   \n",
       "13           0                         0                             0   \n",
       "22           0                         0                             1   \n",
       "...        ...                       ...                           ...   \n",
       "2494         0                         0                             0   \n",
       "2498         0                         0                             0   \n",
       "2499         0                         0                             0   \n",
       "2500         0                         0                             0   \n",
       "2503         0                         0                             0   \n",
       "\n",
       "      Latino or Hispanic American  Middle Eastern or Arab American  \\\n",
       "4                               0                                0   \n",
       "7                               1                                0   \n",
       "11                              0                                0   \n",
       "13                              0                                0   \n",
       "22                              0                                0   \n",
       "...                           ...                              ...   \n",
       "2494                            0                                0   \n",
       "2498                            0                                1   \n",
       "2499                            0                                0   \n",
       "2500                            0                                0   \n",
       "2503                            0                                0   \n",
       "\n",
       "      Native American or Alaskan Native  Non-Hispanic White or Euro-American  \\\n",
       "4                                     0                                    0   \n",
       "7                                     0                                    0   \n",
       "11                                    0                                    0   \n",
       "13                                    0                                    1   \n",
       "22                                    0                                    0   \n",
       "...                                 ...                                  ...   \n",
       "2494                                  0                                    0   \n",
       "2498                                  0                                    0   \n",
       "2499                                  0                                    1   \n",
       "2500                                  0                                    1   \n",
       "2503                                  0                                    1   \n",
       "\n",
       "      South Asian or Indian American  Two or More Races  \n",
       "4                                  0                  0  \n",
       "7                                  0                  0  \n",
       "11                                 0                  0  \n",
       "13                                 0                  0  \n",
       "22                                 0                  0  \n",
       "...                              ...                ...  \n",
       "2494                               1                  0  \n",
       "2498                               0                  0  \n",
       "2499                               0                  0  \n",
       "2500                               0                  0  \n",
       "2503                               0                  0  \n",
       "\n",
       "[1396 rows x 56 columns]"
      ]
     },
     "execution_count": 170,
     "metadata": {},
     "output_type": "execute_result"
    }
   ],
   "source": [
    "data_new = data[data['pathrise_status']==1]\n",
    "data_new"
   ]
  },
  {
   "cell_type": "code",
   "execution_count": 171,
   "id": "28f61070",
   "metadata": {},
   "outputs": [],
   "source": [
    "X_D = data_new.drop('placed',axis=1)\n",
    "y_D = data_new['placed']"
   ]
  },
  {
   "cell_type": "code",
   "execution_count": 172,
   "id": "00c7df66",
   "metadata": {},
   "outputs": [],
   "source": [
    "scaled_features_X = preprocessing.normalize(X_D, axis=1)"
   ]
  },
  {
   "cell_type": "code",
   "execution_count": 173,
   "id": "3b391c7c",
   "metadata": {},
   "outputs": [],
   "source": [
    "X_D = scaled_features_X"
   ]
  },
  {
   "cell_type": "code",
   "execution_count": 174,
   "id": "0186c15b",
   "metadata": {},
   "outputs": [],
   "source": [
    "X_train, X_test, y_train, y_test = train_test_split(X_D, y_D, test_size=0.30 , random_state=101)"
   ]
  },
  {
   "cell_type": "code",
   "execution_count": 175,
   "id": "1e94e3f6",
   "metadata": {},
   "outputs": [],
   "source": [
    "from sklearn.tree import DecisionTreeClassifier"
   ]
  },
  {
   "cell_type": "code",
   "execution_count": 176,
   "id": "44c27d99",
   "metadata": {},
   "outputs": [],
   "source": [
    "dtree = DecisionTreeClassifier()"
   ]
  },
  {
   "cell_type": "code",
   "execution_count": 177,
   "id": "3291e479",
   "metadata": {},
   "outputs": [
    {
     "data": {
      "text/html": [
       "<style>#sk-container-id-14 {color: black;background-color: white;}#sk-container-id-14 pre{padding: 0;}#sk-container-id-14 div.sk-toggleable {background-color: white;}#sk-container-id-14 label.sk-toggleable__label {cursor: pointer;display: block;width: 100%;margin-bottom: 0;padding: 0.3em;box-sizing: border-box;text-align: center;}#sk-container-id-14 label.sk-toggleable__label-arrow:before {content: \"▸\";float: left;margin-right: 0.25em;color: #696969;}#sk-container-id-14 label.sk-toggleable__label-arrow:hover:before {color: black;}#sk-container-id-14 div.sk-estimator:hover label.sk-toggleable__label-arrow:before {color: black;}#sk-container-id-14 div.sk-toggleable__content {max-height: 0;max-width: 0;overflow: hidden;text-align: left;background-color: #f0f8ff;}#sk-container-id-14 div.sk-toggleable__content pre {margin: 0.2em;color: black;border-radius: 0.25em;background-color: #f0f8ff;}#sk-container-id-14 input.sk-toggleable__control:checked~div.sk-toggleable__content {max-height: 200px;max-width: 100%;overflow: auto;}#sk-container-id-14 input.sk-toggleable__control:checked~label.sk-toggleable__label-arrow:before {content: \"▾\";}#sk-container-id-14 div.sk-estimator input.sk-toggleable__control:checked~label.sk-toggleable__label {background-color: #d4ebff;}#sk-container-id-14 div.sk-label input.sk-toggleable__control:checked~label.sk-toggleable__label {background-color: #d4ebff;}#sk-container-id-14 input.sk-hidden--visually {border: 0;clip: rect(1px 1px 1px 1px);clip: rect(1px, 1px, 1px, 1px);height: 1px;margin: -1px;overflow: hidden;padding: 0;position: absolute;width: 1px;}#sk-container-id-14 div.sk-estimator {font-family: monospace;background-color: #f0f8ff;border: 1px dotted black;border-radius: 0.25em;box-sizing: border-box;margin-bottom: 0.5em;}#sk-container-id-14 div.sk-estimator:hover {background-color: #d4ebff;}#sk-container-id-14 div.sk-parallel-item::after {content: \"\";width: 100%;border-bottom: 1px solid gray;flex-grow: 1;}#sk-container-id-14 div.sk-label:hover label.sk-toggleable__label {background-color: #d4ebff;}#sk-container-id-14 div.sk-serial::before {content: \"\";position: absolute;border-left: 1px solid gray;box-sizing: border-box;top: 0;bottom: 0;left: 50%;z-index: 0;}#sk-container-id-14 div.sk-serial {display: flex;flex-direction: column;align-items: center;background-color: white;padding-right: 0.2em;padding-left: 0.2em;position: relative;}#sk-container-id-14 div.sk-item {position: relative;z-index: 1;}#sk-container-id-14 div.sk-parallel {display: flex;align-items: stretch;justify-content: center;background-color: white;position: relative;}#sk-container-id-14 div.sk-item::before, #sk-container-id-14 div.sk-parallel-item::before {content: \"\";position: absolute;border-left: 1px solid gray;box-sizing: border-box;top: 0;bottom: 0;left: 50%;z-index: -1;}#sk-container-id-14 div.sk-parallel-item {display: flex;flex-direction: column;z-index: 1;position: relative;background-color: white;}#sk-container-id-14 div.sk-parallel-item:first-child::after {align-self: flex-end;width: 50%;}#sk-container-id-14 div.sk-parallel-item:last-child::after {align-self: flex-start;width: 50%;}#sk-container-id-14 div.sk-parallel-item:only-child::after {width: 0;}#sk-container-id-14 div.sk-dashed-wrapped {border: 1px dashed gray;margin: 0 0.4em 0.5em 0.4em;box-sizing: border-box;padding-bottom: 0.4em;background-color: white;}#sk-container-id-14 div.sk-label label {font-family: monospace;font-weight: bold;display: inline-block;line-height: 1.2em;}#sk-container-id-14 div.sk-label-container {text-align: center;}#sk-container-id-14 div.sk-container {/* jupyter's `normalize.less` sets `[hidden] { display: none; }` but bootstrap.min.css set `[hidden] { display: none !important; }` so we also need the `!important` here to be able to override the default hidden behavior on the sphinx rendered scikit-learn.org. See: https://github.com/scikit-learn/scikit-learn/issues/21755 */display: inline-block !important;position: relative;}#sk-container-id-14 div.sk-text-repr-fallback {display: none;}</style><div id=\"sk-container-id-14\" class=\"sk-top-container\"><div class=\"sk-text-repr-fallback\"><pre>DecisionTreeClassifier()</pre><b>In a Jupyter environment, please rerun this cell to show the HTML representation or trust the notebook. <br />On GitHub, the HTML representation is unable to render, please try loading this page with nbviewer.org.</b></div><div class=\"sk-container\" hidden><div class=\"sk-item\"><div class=\"sk-estimator sk-toggleable\"><input class=\"sk-toggleable__control sk-hidden--visually\" id=\"sk-estimator-id-14\" type=\"checkbox\" checked><label for=\"sk-estimator-id-14\" class=\"sk-toggleable__label sk-toggleable__label-arrow\">DecisionTreeClassifier</label><div class=\"sk-toggleable__content\"><pre>DecisionTreeClassifier()</pre></div></div></div></div></div>"
      ],
      "text/plain": [
       "DecisionTreeClassifier()"
      ]
     },
     "execution_count": 177,
     "metadata": {},
     "output_type": "execute_result"
    }
   ],
   "source": [
    "dtree.fit(X_train,y_train)"
   ]
  },
  {
   "cell_type": "code",
   "execution_count": 178,
   "id": "d743de43",
   "metadata": {},
   "outputs": [],
   "source": [
    "predictions = dtree.predict(X_test)"
   ]
  },
  {
   "cell_type": "code",
   "execution_count": 179,
   "id": "48db7ad0",
   "metadata": {},
   "outputs": [],
   "source": [
    "from sklearn.metrics import classification_report,confusion_matrix"
   ]
  },
  {
   "cell_type": "code",
   "execution_count": 180,
   "id": "3c23cbe1",
   "metadata": {},
   "outputs": [
    {
     "name": "stdout",
     "output_type": "stream",
     "text": [
      "[[ 51  77]\n",
      " [ 93 198]]\n"
     ]
    }
   ],
   "source": [
    "print(confusion_matrix(y_test,predictions))"
   ]
  },
  {
   "cell_type": "code",
   "execution_count": 181,
   "id": "f0d26261",
   "metadata": {},
   "outputs": [
    {
     "name": "stdout",
     "output_type": "stream",
     "text": [
      "              precision    recall  f1-score   support\n",
      "\n",
      "           0       0.35      0.40      0.37       128\n",
      "           1       0.72      0.68      0.70       291\n",
      "\n",
      "    accuracy                           0.59       419\n",
      "   macro avg       0.54      0.54      0.54       419\n",
      "weighted avg       0.61      0.59      0.60       419\n",
      "\n"
     ]
    }
   ],
   "source": [
    "print(classification_report(y_test,predictions))"
   ]
  },
  {
   "cell_type": "code",
   "execution_count": 182,
   "id": "10b8e376",
   "metadata": {},
   "outputs": [
    {
     "data": {
      "text/html": [
       "<style>#sk-container-id-15 {color: black;background-color: white;}#sk-container-id-15 pre{padding: 0;}#sk-container-id-15 div.sk-toggleable {background-color: white;}#sk-container-id-15 label.sk-toggleable__label {cursor: pointer;display: block;width: 100%;margin-bottom: 0;padding: 0.3em;box-sizing: border-box;text-align: center;}#sk-container-id-15 label.sk-toggleable__label-arrow:before {content: \"▸\";float: left;margin-right: 0.25em;color: #696969;}#sk-container-id-15 label.sk-toggleable__label-arrow:hover:before {color: black;}#sk-container-id-15 div.sk-estimator:hover label.sk-toggleable__label-arrow:before {color: black;}#sk-container-id-15 div.sk-toggleable__content {max-height: 0;max-width: 0;overflow: hidden;text-align: left;background-color: #f0f8ff;}#sk-container-id-15 div.sk-toggleable__content pre {margin: 0.2em;color: black;border-radius: 0.25em;background-color: #f0f8ff;}#sk-container-id-15 input.sk-toggleable__control:checked~div.sk-toggleable__content {max-height: 200px;max-width: 100%;overflow: auto;}#sk-container-id-15 input.sk-toggleable__control:checked~label.sk-toggleable__label-arrow:before {content: \"▾\";}#sk-container-id-15 div.sk-estimator input.sk-toggleable__control:checked~label.sk-toggleable__label {background-color: #d4ebff;}#sk-container-id-15 div.sk-label input.sk-toggleable__control:checked~label.sk-toggleable__label {background-color: #d4ebff;}#sk-container-id-15 input.sk-hidden--visually {border: 0;clip: rect(1px 1px 1px 1px);clip: rect(1px, 1px, 1px, 1px);height: 1px;margin: -1px;overflow: hidden;padding: 0;position: absolute;width: 1px;}#sk-container-id-15 div.sk-estimator {font-family: monospace;background-color: #f0f8ff;border: 1px dotted black;border-radius: 0.25em;box-sizing: border-box;margin-bottom: 0.5em;}#sk-container-id-15 div.sk-estimator:hover {background-color: #d4ebff;}#sk-container-id-15 div.sk-parallel-item::after {content: \"\";width: 100%;border-bottom: 1px solid gray;flex-grow: 1;}#sk-container-id-15 div.sk-label:hover label.sk-toggleable__label {background-color: #d4ebff;}#sk-container-id-15 div.sk-serial::before {content: \"\";position: absolute;border-left: 1px solid gray;box-sizing: border-box;top: 0;bottom: 0;left: 50%;z-index: 0;}#sk-container-id-15 div.sk-serial {display: flex;flex-direction: column;align-items: center;background-color: white;padding-right: 0.2em;padding-left: 0.2em;position: relative;}#sk-container-id-15 div.sk-item {position: relative;z-index: 1;}#sk-container-id-15 div.sk-parallel {display: flex;align-items: stretch;justify-content: center;background-color: white;position: relative;}#sk-container-id-15 div.sk-item::before, #sk-container-id-15 div.sk-parallel-item::before {content: \"\";position: absolute;border-left: 1px solid gray;box-sizing: border-box;top: 0;bottom: 0;left: 50%;z-index: -1;}#sk-container-id-15 div.sk-parallel-item {display: flex;flex-direction: column;z-index: 1;position: relative;background-color: white;}#sk-container-id-15 div.sk-parallel-item:first-child::after {align-self: flex-end;width: 50%;}#sk-container-id-15 div.sk-parallel-item:last-child::after {align-self: flex-start;width: 50%;}#sk-container-id-15 div.sk-parallel-item:only-child::after {width: 0;}#sk-container-id-15 div.sk-dashed-wrapped {border: 1px dashed gray;margin: 0 0.4em 0.5em 0.4em;box-sizing: border-box;padding-bottom: 0.4em;background-color: white;}#sk-container-id-15 div.sk-label label {font-family: monospace;font-weight: bold;display: inline-block;line-height: 1.2em;}#sk-container-id-15 div.sk-label-container {text-align: center;}#sk-container-id-15 div.sk-container {/* jupyter's `normalize.less` sets `[hidden] { display: none; }` but bootstrap.min.css set `[hidden] { display: none !important; }` so we also need the `!important` here to be able to override the default hidden behavior on the sphinx rendered scikit-learn.org. See: https://github.com/scikit-learn/scikit-learn/issues/21755 */display: inline-block !important;position: relative;}#sk-container-id-15 div.sk-text-repr-fallback {display: none;}</style><div id=\"sk-container-id-15\" class=\"sk-top-container\"><div class=\"sk-text-repr-fallback\"><pre>RandomForestClassifier()</pre><b>In a Jupyter environment, please rerun this cell to show the HTML representation or trust the notebook. <br />On GitHub, the HTML representation is unable to render, please try loading this page with nbviewer.org.</b></div><div class=\"sk-container\" hidden><div class=\"sk-item\"><div class=\"sk-estimator sk-toggleable\"><input class=\"sk-toggleable__control sk-hidden--visually\" id=\"sk-estimator-id-15\" type=\"checkbox\" checked><label for=\"sk-estimator-id-15\" class=\"sk-toggleable__label sk-toggleable__label-arrow\">RandomForestClassifier</label><div class=\"sk-toggleable__content\"><pre>RandomForestClassifier()</pre></div></div></div></div></div>"
      ],
      "text/plain": [
       "RandomForestClassifier()"
      ]
     },
     "execution_count": 182,
     "metadata": {},
     "output_type": "execute_result"
    }
   ],
   "source": [
    "from sklearn.ensemble import RandomForestClassifier\n",
    "rfc = RandomForestClassifier(n_estimators=100)\n",
    "rfc.fit(X_train, y_train)"
   ]
  },
  {
   "cell_type": "code",
   "execution_count": 183,
   "id": "44f8f84c",
   "metadata": {},
   "outputs": [],
   "source": [
    "rfc_pred = rfc.predict(X_test)"
   ]
  },
  {
   "cell_type": "code",
   "execution_count": 184,
   "id": "bfe2a377",
   "metadata": {},
   "outputs": [
    {
     "name": "stdout",
     "output_type": "stream",
     "text": [
      "[[ 36  92]\n",
      " [ 31 260]]\n"
     ]
    }
   ],
   "source": [
    "print(confusion_matrix(y_test,rfc_pred))"
   ]
  },
  {
   "cell_type": "code",
   "execution_count": 185,
   "id": "5999674c",
   "metadata": {},
   "outputs": [
    {
     "name": "stdout",
     "output_type": "stream",
     "text": [
      "              precision    recall  f1-score   support\n",
      "\n",
      "           0       0.54      0.28      0.37       128\n",
      "           1       0.74      0.89      0.81       291\n",
      "\n",
      "    accuracy                           0.71       419\n",
      "   macro avg       0.64      0.59      0.59       419\n",
      "weighted avg       0.68      0.71      0.67       419\n",
      "\n"
     ]
    }
   ],
   "source": [
    "print(classification_report(y_test,rfc_pred))"
   ]
  },
  {
   "cell_type": "code",
   "execution_count": 186,
   "id": "5163beed",
   "metadata": {},
   "outputs": [],
   "source": [
    "from sklearn.linear_model import LogisticRegression"
   ]
  },
  {
   "cell_type": "code",
   "execution_count": 187,
   "id": "46088ffd",
   "metadata": {},
   "outputs": [
    {
     "data": {
      "text/html": [
       "<style>#sk-container-id-16 {color: black;background-color: white;}#sk-container-id-16 pre{padding: 0;}#sk-container-id-16 div.sk-toggleable {background-color: white;}#sk-container-id-16 label.sk-toggleable__label {cursor: pointer;display: block;width: 100%;margin-bottom: 0;padding: 0.3em;box-sizing: border-box;text-align: center;}#sk-container-id-16 label.sk-toggleable__label-arrow:before {content: \"▸\";float: left;margin-right: 0.25em;color: #696969;}#sk-container-id-16 label.sk-toggleable__label-arrow:hover:before {color: black;}#sk-container-id-16 div.sk-estimator:hover label.sk-toggleable__label-arrow:before {color: black;}#sk-container-id-16 div.sk-toggleable__content {max-height: 0;max-width: 0;overflow: hidden;text-align: left;background-color: #f0f8ff;}#sk-container-id-16 div.sk-toggleable__content pre {margin: 0.2em;color: black;border-radius: 0.25em;background-color: #f0f8ff;}#sk-container-id-16 input.sk-toggleable__control:checked~div.sk-toggleable__content {max-height: 200px;max-width: 100%;overflow: auto;}#sk-container-id-16 input.sk-toggleable__control:checked~label.sk-toggleable__label-arrow:before {content: \"▾\";}#sk-container-id-16 div.sk-estimator input.sk-toggleable__control:checked~label.sk-toggleable__label {background-color: #d4ebff;}#sk-container-id-16 div.sk-label input.sk-toggleable__control:checked~label.sk-toggleable__label {background-color: #d4ebff;}#sk-container-id-16 input.sk-hidden--visually {border: 0;clip: rect(1px 1px 1px 1px);clip: rect(1px, 1px, 1px, 1px);height: 1px;margin: -1px;overflow: hidden;padding: 0;position: absolute;width: 1px;}#sk-container-id-16 div.sk-estimator {font-family: monospace;background-color: #f0f8ff;border: 1px dotted black;border-radius: 0.25em;box-sizing: border-box;margin-bottom: 0.5em;}#sk-container-id-16 div.sk-estimator:hover {background-color: #d4ebff;}#sk-container-id-16 div.sk-parallel-item::after {content: \"\";width: 100%;border-bottom: 1px solid gray;flex-grow: 1;}#sk-container-id-16 div.sk-label:hover label.sk-toggleable__label {background-color: #d4ebff;}#sk-container-id-16 div.sk-serial::before {content: \"\";position: absolute;border-left: 1px solid gray;box-sizing: border-box;top: 0;bottom: 0;left: 50%;z-index: 0;}#sk-container-id-16 div.sk-serial {display: flex;flex-direction: column;align-items: center;background-color: white;padding-right: 0.2em;padding-left: 0.2em;position: relative;}#sk-container-id-16 div.sk-item {position: relative;z-index: 1;}#sk-container-id-16 div.sk-parallel {display: flex;align-items: stretch;justify-content: center;background-color: white;position: relative;}#sk-container-id-16 div.sk-item::before, #sk-container-id-16 div.sk-parallel-item::before {content: \"\";position: absolute;border-left: 1px solid gray;box-sizing: border-box;top: 0;bottom: 0;left: 50%;z-index: -1;}#sk-container-id-16 div.sk-parallel-item {display: flex;flex-direction: column;z-index: 1;position: relative;background-color: white;}#sk-container-id-16 div.sk-parallel-item:first-child::after {align-self: flex-end;width: 50%;}#sk-container-id-16 div.sk-parallel-item:last-child::after {align-self: flex-start;width: 50%;}#sk-container-id-16 div.sk-parallel-item:only-child::after {width: 0;}#sk-container-id-16 div.sk-dashed-wrapped {border: 1px dashed gray;margin: 0 0.4em 0.5em 0.4em;box-sizing: border-box;padding-bottom: 0.4em;background-color: white;}#sk-container-id-16 div.sk-label label {font-family: monospace;font-weight: bold;display: inline-block;line-height: 1.2em;}#sk-container-id-16 div.sk-label-container {text-align: center;}#sk-container-id-16 div.sk-container {/* jupyter's `normalize.less` sets `[hidden] { display: none; }` but bootstrap.min.css set `[hidden] { display: none !important; }` so we also need the `!important` here to be able to override the default hidden behavior on the sphinx rendered scikit-learn.org. See: https://github.com/scikit-learn/scikit-learn/issues/21755 */display: inline-block !important;position: relative;}#sk-container-id-16 div.sk-text-repr-fallback {display: none;}</style><div id=\"sk-container-id-16\" class=\"sk-top-container\"><div class=\"sk-text-repr-fallback\"><pre>LogisticRegression()</pre><b>In a Jupyter environment, please rerun this cell to show the HTML representation or trust the notebook. <br />On GitHub, the HTML representation is unable to render, please try loading this page with nbviewer.org.</b></div><div class=\"sk-container\" hidden><div class=\"sk-item\"><div class=\"sk-estimator sk-toggleable\"><input class=\"sk-toggleable__control sk-hidden--visually\" id=\"sk-estimator-id-16\" type=\"checkbox\" checked><label for=\"sk-estimator-id-16\" class=\"sk-toggleable__label sk-toggleable__label-arrow\">LogisticRegression</label><div class=\"sk-toggleable__content\"><pre>LogisticRegression()</pre></div></div></div></div></div>"
      ],
      "text/plain": [
       "LogisticRegression()"
      ]
     },
     "execution_count": 187,
     "metadata": {},
     "output_type": "execute_result"
    }
   ],
   "source": [
    "logmodel = LogisticRegression()\n",
    "logmodel.fit(X_train,y_train)"
   ]
  },
  {
   "cell_type": "code",
   "execution_count": 199,
   "id": "3b88da56",
   "metadata": {},
   "outputs": [],
   "source": [
    "predictions = logmodel.predict(X_test)"
   ]
  },
  {
   "cell_type": "code",
   "execution_count": 200,
   "id": "10ebe3bf",
   "metadata": {},
   "outputs": [
    {
     "data": {
      "text/plain": [
       "array([[  0, 128],\n",
       "       [  0, 291]], dtype=int64)"
      ]
     },
     "execution_count": 200,
     "metadata": {},
     "output_type": "execute_result"
    }
   ],
   "source": [
    "confusion_matrix(y_test,predictions)"
   ]
  },
  {
   "cell_type": "code",
   "execution_count": 201,
   "id": "2b3bd4c9",
   "metadata": {},
   "outputs": [
    {
     "name": "stdout",
     "output_type": "stream",
     "text": [
      "              precision    recall  f1-score   support\n",
      "\n",
      "           0       0.00      0.00      0.00       128\n",
      "           1       0.69      1.00      0.82       291\n",
      "\n",
      "    accuracy                           0.69       419\n",
      "   macro avg       0.35      0.50      0.41       419\n",
      "weighted avg       0.48      0.69      0.57       419\n",
      "\n"
     ]
    },
    {
     "name": "stderr",
     "output_type": "stream",
     "text": [
      "E:\\Program Files\\python\\lib\\site-packages\\sklearn\\metrics\\_classification.py:1327: UndefinedMetricWarning: Precision and F-score are ill-defined and being set to 0.0 in labels with no predicted samples. Use `zero_division` parameter to control this behavior.\n",
      "  _warn_prf(average, modifier, msg_start, len(result))\n",
      "E:\\Program Files\\python\\lib\\site-packages\\sklearn\\metrics\\_classification.py:1327: UndefinedMetricWarning: Precision and F-score are ill-defined and being set to 0.0 in labels with no predicted samples. Use `zero_division` parameter to control this behavior.\n",
      "  _warn_prf(average, modifier, msg_start, len(result))\n",
      "E:\\Program Files\\python\\lib\\site-packages\\sklearn\\metrics\\_classification.py:1327: UndefinedMetricWarning: Precision and F-score are ill-defined and being set to 0.0 in labels with no predicted samples. Use `zero_division` parameter to control this behavior.\n",
      "  _warn_prf(average, modifier, msg_start, len(result))\n"
     ]
    }
   ],
   "source": [
    "print(classification_report(y_test,predictions))"
   ]
  },
  {
   "cell_type": "code",
   "execution_count": 193,
   "id": "11b841c2",
   "metadata": {},
   "outputs": [],
   "source": [
    "from sklearn.neighbors import KNeighborsClassifier"
   ]
  },
  {
   "cell_type": "code",
   "execution_count": 194,
   "id": "1d8d3742",
   "metadata": {},
   "outputs": [],
   "source": [
    "knn = KNeighborsClassifier(n_neighbors=1)"
   ]
  },
  {
   "cell_type": "code",
   "execution_count": 195,
   "id": "41836d2b",
   "metadata": {},
   "outputs": [
    {
     "data": {
      "text/html": [
       "<style>#sk-container-id-17 {color: black;background-color: white;}#sk-container-id-17 pre{padding: 0;}#sk-container-id-17 div.sk-toggleable {background-color: white;}#sk-container-id-17 label.sk-toggleable__label {cursor: pointer;display: block;width: 100%;margin-bottom: 0;padding: 0.3em;box-sizing: border-box;text-align: center;}#sk-container-id-17 label.sk-toggleable__label-arrow:before {content: \"▸\";float: left;margin-right: 0.25em;color: #696969;}#sk-container-id-17 label.sk-toggleable__label-arrow:hover:before {color: black;}#sk-container-id-17 div.sk-estimator:hover label.sk-toggleable__label-arrow:before {color: black;}#sk-container-id-17 div.sk-toggleable__content {max-height: 0;max-width: 0;overflow: hidden;text-align: left;background-color: #f0f8ff;}#sk-container-id-17 div.sk-toggleable__content pre {margin: 0.2em;color: black;border-radius: 0.25em;background-color: #f0f8ff;}#sk-container-id-17 input.sk-toggleable__control:checked~div.sk-toggleable__content {max-height: 200px;max-width: 100%;overflow: auto;}#sk-container-id-17 input.sk-toggleable__control:checked~label.sk-toggleable__label-arrow:before {content: \"▾\";}#sk-container-id-17 div.sk-estimator input.sk-toggleable__control:checked~label.sk-toggleable__label {background-color: #d4ebff;}#sk-container-id-17 div.sk-label input.sk-toggleable__control:checked~label.sk-toggleable__label {background-color: #d4ebff;}#sk-container-id-17 input.sk-hidden--visually {border: 0;clip: rect(1px 1px 1px 1px);clip: rect(1px, 1px, 1px, 1px);height: 1px;margin: -1px;overflow: hidden;padding: 0;position: absolute;width: 1px;}#sk-container-id-17 div.sk-estimator {font-family: monospace;background-color: #f0f8ff;border: 1px dotted black;border-radius: 0.25em;box-sizing: border-box;margin-bottom: 0.5em;}#sk-container-id-17 div.sk-estimator:hover {background-color: #d4ebff;}#sk-container-id-17 div.sk-parallel-item::after {content: \"\";width: 100%;border-bottom: 1px solid gray;flex-grow: 1;}#sk-container-id-17 div.sk-label:hover label.sk-toggleable__label {background-color: #d4ebff;}#sk-container-id-17 div.sk-serial::before {content: \"\";position: absolute;border-left: 1px solid gray;box-sizing: border-box;top: 0;bottom: 0;left: 50%;z-index: 0;}#sk-container-id-17 div.sk-serial {display: flex;flex-direction: column;align-items: center;background-color: white;padding-right: 0.2em;padding-left: 0.2em;position: relative;}#sk-container-id-17 div.sk-item {position: relative;z-index: 1;}#sk-container-id-17 div.sk-parallel {display: flex;align-items: stretch;justify-content: center;background-color: white;position: relative;}#sk-container-id-17 div.sk-item::before, #sk-container-id-17 div.sk-parallel-item::before {content: \"\";position: absolute;border-left: 1px solid gray;box-sizing: border-box;top: 0;bottom: 0;left: 50%;z-index: -1;}#sk-container-id-17 div.sk-parallel-item {display: flex;flex-direction: column;z-index: 1;position: relative;background-color: white;}#sk-container-id-17 div.sk-parallel-item:first-child::after {align-self: flex-end;width: 50%;}#sk-container-id-17 div.sk-parallel-item:last-child::after {align-self: flex-start;width: 50%;}#sk-container-id-17 div.sk-parallel-item:only-child::after {width: 0;}#sk-container-id-17 div.sk-dashed-wrapped {border: 1px dashed gray;margin: 0 0.4em 0.5em 0.4em;box-sizing: border-box;padding-bottom: 0.4em;background-color: white;}#sk-container-id-17 div.sk-label label {font-family: monospace;font-weight: bold;display: inline-block;line-height: 1.2em;}#sk-container-id-17 div.sk-label-container {text-align: center;}#sk-container-id-17 div.sk-container {/* jupyter's `normalize.less` sets `[hidden] { display: none; }` but bootstrap.min.css set `[hidden] { display: none !important; }` so we also need the `!important` here to be able to override the default hidden behavior on the sphinx rendered scikit-learn.org. See: https://github.com/scikit-learn/scikit-learn/issues/21755 */display: inline-block !important;position: relative;}#sk-container-id-17 div.sk-text-repr-fallback {display: none;}</style><div id=\"sk-container-id-17\" class=\"sk-top-container\"><div class=\"sk-text-repr-fallback\"><pre>KNeighborsClassifier(n_neighbors=1)</pre><b>In a Jupyter environment, please rerun this cell to show the HTML representation or trust the notebook. <br />On GitHub, the HTML representation is unable to render, please try loading this page with nbviewer.org.</b></div><div class=\"sk-container\" hidden><div class=\"sk-item\"><div class=\"sk-estimator sk-toggleable\"><input class=\"sk-toggleable__control sk-hidden--visually\" id=\"sk-estimator-id-17\" type=\"checkbox\" checked><label for=\"sk-estimator-id-17\" class=\"sk-toggleable__label sk-toggleable__label-arrow\">KNeighborsClassifier</label><div class=\"sk-toggleable__content\"><pre>KNeighborsClassifier(n_neighbors=1)</pre></div></div></div></div></div>"
      ],
      "text/plain": [
       "KNeighborsClassifier(n_neighbors=1)"
      ]
     },
     "execution_count": 195,
     "metadata": {},
     "output_type": "execute_result"
    }
   ],
   "source": [
    "knn.fit(X_train,y_train)"
   ]
  },
  {
   "cell_type": "code",
   "execution_count": 196,
   "id": "fffbbb7e",
   "metadata": {},
   "outputs": [],
   "source": [
    "pred = knn.predict(X_test)"
   ]
  },
  {
   "cell_type": "code",
   "execution_count": 197,
   "id": "8713cd05",
   "metadata": {},
   "outputs": [
    {
     "name": "stdout",
     "output_type": "stream",
     "text": [
      "[[ 57  71]\n",
      " [ 96 195]]\n"
     ]
    }
   ],
   "source": [
    "print(confusion_matrix(y_test,pred))"
   ]
  },
  {
   "cell_type": "code",
   "execution_count": 198,
   "id": "925addeb",
   "metadata": {},
   "outputs": [
    {
     "name": "stdout",
     "output_type": "stream",
     "text": [
      "              precision    recall  f1-score   support\n",
      "\n",
      "           0       0.37      0.45      0.41       128\n",
      "           1       0.73      0.67      0.70       291\n",
      "\n",
      "    accuracy                           0.60       419\n",
      "   macro avg       0.55      0.56      0.55       419\n",
      "weighted avg       0.62      0.60      0.61       419\n",
      "\n"
     ]
    }
   ],
   "source": [
    "print(classification_report(y_test,pred))"
   ]
  },
  {
   "cell_type": "code",
   "execution_count": null,
   "id": "19bec598",
   "metadata": {},
   "outputs": [],
   "source": [
    "############ END Target 2 ###############"
   ]
  },
  {
   "cell_type": "code",
   "execution_count": null,
   "id": "676903f9",
   "metadata": {},
   "outputs": [],
   "source": []
  },
  {
   "cell_type": "code",
   "execution_count": null,
   "id": "8f2c53a4",
   "metadata": {},
   "outputs": [],
   "source": [
    "################## Visualation #####################"
   ]
  },
  {
   "cell_type": "code",
   "execution_count": 98,
   "id": "ba49c15d",
   "metadata": {},
   "outputs": [
    {
     "ename": "ValueError",
     "evalue": "Could not interpret input 'highest_level_of_education'",
     "output_type": "error",
     "traceback": [
      "\u001b[1;31m---------------------------------------------------------------------------\u001b[0m",
      "\u001b[1;31mValueError\u001b[0m                                Traceback (most recent call last)",
      "Input \u001b[1;32mIn [98]\u001b[0m, in \u001b[0;36m<cell line: 1>\u001b[1;34m()\u001b[0m\n\u001b[1;32m----> 1\u001b[0m \u001b[43msns\u001b[49m\u001b[38;5;241;43m.\u001b[39;49m\u001b[43mcatplot\u001b[49m\u001b[43m(\u001b[49m\u001b[43my\u001b[49m\u001b[38;5;241;43m=\u001b[39;49m\u001b[38;5;124;43m\"\u001b[39;49m\u001b[38;5;124;43mgender\u001b[39;49m\u001b[38;5;124;43m\"\u001b[39;49m\u001b[43m,\u001b[49m\u001b[43m \u001b[49m\u001b[43mx\u001b[49m\u001b[38;5;241;43m=\u001b[39;49m\u001b[38;5;124;43m\"\u001b[39;49m\u001b[38;5;124;43mhighest_level_of_education\u001b[39;49m\u001b[38;5;124;43m\"\u001b[39;49m\u001b[43m,\u001b[49m\u001b[43m \u001b[49m\u001b[43mhue\u001b[49m\u001b[38;5;241;43m=\u001b[39;49m\u001b[38;5;124;43m\"\u001b[39;49m\u001b[38;5;124;43mplaced\u001b[39;49m\u001b[38;5;124;43m\"\u001b[39;49m\u001b[43m,\u001b[49m\u001b[43m \u001b[49m\u001b[43mdata\u001b[49m\u001b[38;5;241;43m=\u001b[39;49m\u001b[43mdf\u001b[49m\u001b[43m,\u001b[49m\u001b[43m \u001b[49m\u001b[43maspect\u001b[49m\u001b[43m \u001b[49m\u001b[38;5;241;43m=\u001b[39;49m\u001b[43m \u001b[49m\u001b[38;5;241;43m5\u001b[39;49m\u001b[43m)\u001b[49m\n\u001b[0;32m      2\u001b[0m plt\u001b[38;5;241m.\u001b[39mxlabel(\u001b[38;5;124m\"\u001b[39m\u001b[38;5;124mhighest_level_of_education\u001b[39m\u001b[38;5;124m\"\u001b[39m,fontsize\u001b[38;5;241m=\u001b[39m\u001b[38;5;241m20\u001b[39m)\n\u001b[0;32m      3\u001b[0m plt\u001b[38;5;241m.\u001b[39mylabel(\u001b[38;5;124m\"\u001b[39m\u001b[38;5;124mplaced\u001b[39m\u001b[38;5;124m\"\u001b[39m,fontsize\u001b[38;5;241m=\u001b[39m\u001b[38;5;241m20\u001b[39m)\n",
      "File \u001b[1;32mE:\\Program Files\\python\\lib\\site-packages\\seaborn\\_decorators.py:46\u001b[0m, in \u001b[0;36m_deprecate_positional_args.<locals>.inner_f\u001b[1;34m(*args, **kwargs)\u001b[0m\n\u001b[0;32m     36\u001b[0m     warnings\u001b[38;5;241m.\u001b[39mwarn(\n\u001b[0;32m     37\u001b[0m         \u001b[38;5;124m\"\u001b[39m\u001b[38;5;124mPass the following variable\u001b[39m\u001b[38;5;132;01m{}\u001b[39;00m\u001b[38;5;124m as \u001b[39m\u001b[38;5;132;01m{}\u001b[39;00m\u001b[38;5;124mkeyword arg\u001b[39m\u001b[38;5;132;01m{}\u001b[39;00m\u001b[38;5;124m: \u001b[39m\u001b[38;5;132;01m{}\u001b[39;00m\u001b[38;5;124m. \u001b[39m\u001b[38;5;124m\"\u001b[39m\n\u001b[0;32m     38\u001b[0m         \u001b[38;5;124m\"\u001b[39m\u001b[38;5;124mFrom version 0.12, the only valid positional argument \u001b[39m\u001b[38;5;124m\"\u001b[39m\n\u001b[1;32m   (...)\u001b[0m\n\u001b[0;32m     43\u001b[0m         \u001b[38;5;167;01mFutureWarning\u001b[39;00m\n\u001b[0;32m     44\u001b[0m     )\n\u001b[0;32m     45\u001b[0m kwargs\u001b[38;5;241m.\u001b[39mupdate({k: arg \u001b[38;5;28;01mfor\u001b[39;00m k, arg \u001b[38;5;129;01min\u001b[39;00m \u001b[38;5;28mzip\u001b[39m(sig\u001b[38;5;241m.\u001b[39mparameters, args)})\n\u001b[1;32m---> 46\u001b[0m \u001b[38;5;28;01mreturn\u001b[39;00m f(\u001b[38;5;241m*\u001b[39m\u001b[38;5;241m*\u001b[39mkwargs)\n",
      "File \u001b[1;32mE:\\Program Files\\python\\lib\\site-packages\\seaborn\\categorical.py:3792\u001b[0m, in \u001b[0;36mcatplot\u001b[1;34m(x, y, hue, data, row, col, col_wrap, estimator, ci, n_boot, units, seed, order, hue_order, row_order, col_order, kind, height, aspect, orient, color, palette, legend, legend_out, sharex, sharey, margin_titles, facet_kws, **kwargs)\u001b[0m\n\u001b[0;32m   3790\u001b[0m p \u001b[38;5;241m=\u001b[39m _CategoricalPlotter()\n\u001b[0;32m   3791\u001b[0m p\u001b[38;5;241m.\u001b[39mrequire_numeric \u001b[38;5;241m=\u001b[39m plotter_class\u001b[38;5;241m.\u001b[39mrequire_numeric\n\u001b[1;32m-> 3792\u001b[0m \u001b[43mp\u001b[49m\u001b[38;5;241;43m.\u001b[39;49m\u001b[43mestablish_variables\u001b[49m\u001b[43m(\u001b[49m\u001b[43mx_\u001b[49m\u001b[43m,\u001b[49m\u001b[43m \u001b[49m\u001b[43my_\u001b[49m\u001b[43m,\u001b[49m\u001b[43m \u001b[49m\u001b[43mhue\u001b[49m\u001b[43m,\u001b[49m\u001b[43m \u001b[49m\u001b[43mdata\u001b[49m\u001b[43m,\u001b[49m\u001b[43m \u001b[49m\u001b[43morient\u001b[49m\u001b[43m,\u001b[49m\u001b[43m \u001b[49m\u001b[43morder\u001b[49m\u001b[43m,\u001b[49m\u001b[43m \u001b[49m\u001b[43mhue_order\u001b[49m\u001b[43m)\u001b[49m\n\u001b[0;32m   3793\u001b[0m \u001b[38;5;28;01mif\u001b[39;00m (\n\u001b[0;32m   3794\u001b[0m     order \u001b[38;5;129;01mis\u001b[39;00m \u001b[38;5;129;01mnot\u001b[39;00m \u001b[38;5;28;01mNone\u001b[39;00m\n\u001b[0;32m   3795\u001b[0m     \u001b[38;5;129;01mor\u001b[39;00m (sharex \u001b[38;5;129;01mand\u001b[39;00m p\u001b[38;5;241m.\u001b[39morient \u001b[38;5;241m==\u001b[39m \u001b[38;5;124m\"\u001b[39m\u001b[38;5;124mv\u001b[39m\u001b[38;5;124m\"\u001b[39m)\n\u001b[0;32m   3796\u001b[0m     \u001b[38;5;129;01mor\u001b[39;00m (sharey \u001b[38;5;129;01mand\u001b[39;00m p\u001b[38;5;241m.\u001b[39morient \u001b[38;5;241m==\u001b[39m \u001b[38;5;124m\"\u001b[39m\u001b[38;5;124mh\u001b[39m\u001b[38;5;124m\"\u001b[39m)\n\u001b[0;32m   3797\u001b[0m ):\n\u001b[0;32m   3798\u001b[0m     \u001b[38;5;66;03m# Sync categorical axis between facets to have the same categories\u001b[39;00m\n\u001b[0;32m   3799\u001b[0m     order \u001b[38;5;241m=\u001b[39m p\u001b[38;5;241m.\u001b[39mgroup_names\n",
      "File \u001b[1;32mE:\\Program Files\\python\\lib\\site-packages\\seaborn\\categorical.py:153\u001b[0m, in \u001b[0;36m_CategoricalPlotter.establish_variables\u001b[1;34m(self, x, y, hue, data, orient, order, hue_order, units)\u001b[0m\n\u001b[0;32m    151\u001b[0m     \u001b[38;5;28;01mif\u001b[39;00m \u001b[38;5;28misinstance\u001b[39m(var, \u001b[38;5;28mstr\u001b[39m):\n\u001b[0;32m    152\u001b[0m         err \u001b[38;5;241m=\u001b[39m \u001b[38;5;124m\"\u001b[39m\u001b[38;5;124mCould not interpret input \u001b[39m\u001b[38;5;124m'\u001b[39m\u001b[38;5;132;01m{}\u001b[39;00m\u001b[38;5;124m'\u001b[39m\u001b[38;5;124m\"\u001b[39m\u001b[38;5;241m.\u001b[39mformat(var)\n\u001b[1;32m--> 153\u001b[0m         \u001b[38;5;28;01mraise\u001b[39;00m \u001b[38;5;167;01mValueError\u001b[39;00m(err)\n\u001b[0;32m    155\u001b[0m \u001b[38;5;66;03m# Figure out the plotting orientation\u001b[39;00m\n\u001b[0;32m    156\u001b[0m orient \u001b[38;5;241m=\u001b[39m infer_orient(\n\u001b[0;32m    157\u001b[0m     x, y, orient, require_numeric\u001b[38;5;241m=\u001b[39m\u001b[38;5;28mself\u001b[39m\u001b[38;5;241m.\u001b[39mrequire_numeric\n\u001b[0;32m    158\u001b[0m )\n",
      "\u001b[1;31mValueError\u001b[0m: Could not interpret input 'highest_level_of_education'"
     ]
    }
   ],
   "source": [
    "sns.catplot(y=\"gender\", x=\"highest_level_of_education\", hue=\"placed\", data=df, aspect = 5)\n",
    "plt.xlabel(\"highest_level_of_education\",fontsize=20)\n",
    "plt.ylabel(\"placed\",fontsize=20)\n",
    "plt.show()"
   ]
  },
  {
   "cell_type": "code",
   "execution_count": 99,
   "id": "08138ae1",
   "metadata": {},
   "outputs": [
    {
     "ename": "ValueError",
     "evalue": "Could not interpret input 'highest_level_of_education'",
     "output_type": "error",
     "traceback": [
      "\u001b[1;31m---------------------------------------------------------------------------\u001b[0m",
      "\u001b[1;31mValueError\u001b[0m                                Traceback (most recent call last)",
      "Input \u001b[1;32mIn [99]\u001b[0m, in \u001b[0;36m<cell line: 2>\u001b[1;34m()\u001b[0m\n\u001b[0;32m      1\u001b[0m sns\u001b[38;5;241m.\u001b[39mset(rc\u001b[38;5;241m=\u001b[39m{\u001b[38;5;124m'\u001b[39m\u001b[38;5;124mfigure.figsize\u001b[39m\u001b[38;5;124m'\u001b[39m:(\u001b[38;5;241m14.7\u001b[39m,\u001b[38;5;241m11.27\u001b[39m)})\n\u001b[1;32m----> 2\u001b[0m \u001b[43msns\u001b[49m\u001b[38;5;241;43m.\u001b[39;49m\u001b[43mcountplot\u001b[49m\u001b[43m(\u001b[49m\u001b[43mx\u001b[49m\u001b[38;5;241;43m=\u001b[39;49m\u001b[38;5;124;43m\"\u001b[39;49m\u001b[38;5;124;43mhighest_level_of_education\u001b[39;49m\u001b[38;5;124;43m\"\u001b[39;49m\u001b[43m,\u001b[49m\u001b[43m \u001b[49m\u001b[43mhue\u001b[49m\u001b[38;5;241;43m=\u001b[39;49m\u001b[38;5;124;43m\"\u001b[39;49m\u001b[38;5;124;43mplaced\u001b[39;49m\u001b[38;5;124;43m\"\u001b[39;49m\u001b[43m,\u001b[49m\u001b[43m \u001b[49m\u001b[43mdata\u001b[49m\u001b[38;5;241;43m=\u001b[39;49m\u001b[43mdf\u001b[49m\u001b[43m)\u001b[49m\n\u001b[0;32m      3\u001b[0m \u001b[38;5;66;03m#plt.xlabel(\"highest_level_of_education\",fontsize=20)\u001b[39;00m\n\u001b[0;32m      4\u001b[0m \u001b[38;5;66;03m#plt.ylabel(\"placed\",fontsize=20)\u001b[39;00m\n\u001b[0;32m      5\u001b[0m plt\u001b[38;5;241m.\u001b[39mshow()\n",
      "File \u001b[1;32mE:\\Program Files\\python\\lib\\site-packages\\seaborn\\_decorators.py:46\u001b[0m, in \u001b[0;36m_deprecate_positional_args.<locals>.inner_f\u001b[1;34m(*args, **kwargs)\u001b[0m\n\u001b[0;32m     36\u001b[0m     warnings\u001b[38;5;241m.\u001b[39mwarn(\n\u001b[0;32m     37\u001b[0m         \u001b[38;5;124m\"\u001b[39m\u001b[38;5;124mPass the following variable\u001b[39m\u001b[38;5;132;01m{}\u001b[39;00m\u001b[38;5;124m as \u001b[39m\u001b[38;5;132;01m{}\u001b[39;00m\u001b[38;5;124mkeyword arg\u001b[39m\u001b[38;5;132;01m{}\u001b[39;00m\u001b[38;5;124m: \u001b[39m\u001b[38;5;132;01m{}\u001b[39;00m\u001b[38;5;124m. \u001b[39m\u001b[38;5;124m\"\u001b[39m\n\u001b[0;32m     38\u001b[0m         \u001b[38;5;124m\"\u001b[39m\u001b[38;5;124mFrom version 0.12, the only valid positional argument \u001b[39m\u001b[38;5;124m\"\u001b[39m\n\u001b[1;32m   (...)\u001b[0m\n\u001b[0;32m     43\u001b[0m         \u001b[38;5;167;01mFutureWarning\u001b[39;00m\n\u001b[0;32m     44\u001b[0m     )\n\u001b[0;32m     45\u001b[0m kwargs\u001b[38;5;241m.\u001b[39mupdate({k: arg \u001b[38;5;28;01mfor\u001b[39;00m k, arg \u001b[38;5;129;01min\u001b[39;00m \u001b[38;5;28mzip\u001b[39m(sig\u001b[38;5;241m.\u001b[39mparameters, args)})\n\u001b[1;32m---> 46\u001b[0m \u001b[38;5;28;01mreturn\u001b[39;00m f(\u001b[38;5;241m*\u001b[39m\u001b[38;5;241m*\u001b[39mkwargs)\n",
      "File \u001b[1;32mE:\\Program Files\\python\\lib\\site-packages\\seaborn\\categorical.py:3598\u001b[0m, in \u001b[0;36mcountplot\u001b[1;34m(x, y, hue, data, order, hue_order, orient, color, palette, saturation, dodge, ax, **kwargs)\u001b[0m\n\u001b[0;32m   3595\u001b[0m \u001b[38;5;28;01melif\u001b[39;00m x \u001b[38;5;129;01mis\u001b[39;00m \u001b[38;5;129;01mnot\u001b[39;00m \u001b[38;5;28;01mNone\u001b[39;00m \u001b[38;5;129;01mand\u001b[39;00m y \u001b[38;5;129;01mis\u001b[39;00m \u001b[38;5;129;01mnot\u001b[39;00m \u001b[38;5;28;01mNone\u001b[39;00m:\n\u001b[0;32m   3596\u001b[0m     \u001b[38;5;28;01mraise\u001b[39;00m \u001b[38;5;167;01mValueError\u001b[39;00m(\u001b[38;5;124m\"\u001b[39m\u001b[38;5;124mCannot pass values for both `x` and `y`\u001b[39m\u001b[38;5;124m\"\u001b[39m)\n\u001b[1;32m-> 3598\u001b[0m plotter \u001b[38;5;241m=\u001b[39m \u001b[43m_CountPlotter\u001b[49m\u001b[43m(\u001b[49m\n\u001b[0;32m   3599\u001b[0m \u001b[43m    \u001b[49m\u001b[43mx\u001b[49m\u001b[43m,\u001b[49m\u001b[43m \u001b[49m\u001b[43my\u001b[49m\u001b[43m,\u001b[49m\u001b[43m \u001b[49m\u001b[43mhue\u001b[49m\u001b[43m,\u001b[49m\u001b[43m \u001b[49m\u001b[43mdata\u001b[49m\u001b[43m,\u001b[49m\u001b[43m \u001b[49m\u001b[43morder\u001b[49m\u001b[43m,\u001b[49m\u001b[43m \u001b[49m\u001b[43mhue_order\u001b[49m\u001b[43m,\u001b[49m\n\u001b[0;32m   3600\u001b[0m \u001b[43m    \u001b[49m\u001b[43mestimator\u001b[49m\u001b[43m,\u001b[49m\u001b[43m \u001b[49m\u001b[43mci\u001b[49m\u001b[43m,\u001b[49m\u001b[43m \u001b[49m\u001b[43mn_boot\u001b[49m\u001b[43m,\u001b[49m\u001b[43m \u001b[49m\u001b[43munits\u001b[49m\u001b[43m,\u001b[49m\u001b[43m \u001b[49m\u001b[43mseed\u001b[49m\u001b[43m,\u001b[49m\n\u001b[0;32m   3601\u001b[0m \u001b[43m    \u001b[49m\u001b[43morient\u001b[49m\u001b[43m,\u001b[49m\u001b[43m \u001b[49m\u001b[43mcolor\u001b[49m\u001b[43m,\u001b[49m\u001b[43m \u001b[49m\u001b[43mpalette\u001b[49m\u001b[43m,\u001b[49m\u001b[43m \u001b[49m\u001b[43msaturation\u001b[49m\u001b[43m,\u001b[49m\n\u001b[0;32m   3602\u001b[0m \u001b[43m    \u001b[49m\u001b[43merrcolor\u001b[49m\u001b[43m,\u001b[49m\u001b[43m \u001b[49m\u001b[43merrwidth\u001b[49m\u001b[43m,\u001b[49m\u001b[43m \u001b[49m\u001b[43mcapsize\u001b[49m\u001b[43m,\u001b[49m\u001b[43m \u001b[49m\u001b[43mdodge\u001b[49m\n\u001b[0;32m   3603\u001b[0m \u001b[43m\u001b[49m\u001b[43m)\u001b[49m\n\u001b[0;32m   3605\u001b[0m plotter\u001b[38;5;241m.\u001b[39mvalue_label \u001b[38;5;241m=\u001b[39m \u001b[38;5;124m\"\u001b[39m\u001b[38;5;124mcount\u001b[39m\u001b[38;5;124m\"\u001b[39m\n\u001b[0;32m   3607\u001b[0m \u001b[38;5;28;01mif\u001b[39;00m ax \u001b[38;5;129;01mis\u001b[39;00m \u001b[38;5;28;01mNone\u001b[39;00m:\n",
      "File \u001b[1;32mE:\\Program Files\\python\\lib\\site-packages\\seaborn\\categorical.py:1584\u001b[0m, in \u001b[0;36m_BarPlotter.__init__\u001b[1;34m(self, x, y, hue, data, order, hue_order, estimator, ci, n_boot, units, seed, orient, color, palette, saturation, errcolor, errwidth, capsize, dodge)\u001b[0m\n\u001b[0;32m   1579\u001b[0m \u001b[38;5;28;01mdef\u001b[39;00m \u001b[38;5;21m__init__\u001b[39m(\u001b[38;5;28mself\u001b[39m, x, y, hue, data, order, hue_order,\n\u001b[0;32m   1580\u001b[0m              estimator, ci, n_boot, units, seed,\n\u001b[0;32m   1581\u001b[0m              orient, color, palette, saturation, errcolor,\n\u001b[0;32m   1582\u001b[0m              errwidth, capsize, dodge):\n\u001b[0;32m   1583\u001b[0m     \u001b[38;5;124;03m\"\"\"Initialize the plotter.\"\"\"\u001b[39;00m\n\u001b[1;32m-> 1584\u001b[0m     \u001b[38;5;28;43mself\u001b[39;49m\u001b[38;5;241;43m.\u001b[39;49m\u001b[43mestablish_variables\u001b[49m\u001b[43m(\u001b[49m\u001b[43mx\u001b[49m\u001b[43m,\u001b[49m\u001b[43m \u001b[49m\u001b[43my\u001b[49m\u001b[43m,\u001b[49m\u001b[43m \u001b[49m\u001b[43mhue\u001b[49m\u001b[43m,\u001b[49m\u001b[43m \u001b[49m\u001b[43mdata\u001b[49m\u001b[43m,\u001b[49m\u001b[43m \u001b[49m\u001b[43morient\u001b[49m\u001b[43m,\u001b[49m\n\u001b[0;32m   1585\u001b[0m \u001b[43m                             \u001b[49m\u001b[43morder\u001b[49m\u001b[43m,\u001b[49m\u001b[43m \u001b[49m\u001b[43mhue_order\u001b[49m\u001b[43m,\u001b[49m\u001b[43m \u001b[49m\u001b[43munits\u001b[49m\u001b[43m)\u001b[49m\n\u001b[0;32m   1586\u001b[0m     \u001b[38;5;28mself\u001b[39m\u001b[38;5;241m.\u001b[39mestablish_colors(color, palette, saturation)\n\u001b[0;32m   1587\u001b[0m     \u001b[38;5;28mself\u001b[39m\u001b[38;5;241m.\u001b[39mestimate_statistic(estimator, ci, n_boot, seed)\n",
      "File \u001b[1;32mE:\\Program Files\\python\\lib\\site-packages\\seaborn\\categorical.py:153\u001b[0m, in \u001b[0;36m_CategoricalPlotter.establish_variables\u001b[1;34m(self, x, y, hue, data, orient, order, hue_order, units)\u001b[0m\n\u001b[0;32m    151\u001b[0m     \u001b[38;5;28;01mif\u001b[39;00m \u001b[38;5;28misinstance\u001b[39m(var, \u001b[38;5;28mstr\u001b[39m):\n\u001b[0;32m    152\u001b[0m         err \u001b[38;5;241m=\u001b[39m \u001b[38;5;124m\"\u001b[39m\u001b[38;5;124mCould not interpret input \u001b[39m\u001b[38;5;124m'\u001b[39m\u001b[38;5;132;01m{}\u001b[39;00m\u001b[38;5;124m'\u001b[39m\u001b[38;5;124m\"\u001b[39m\u001b[38;5;241m.\u001b[39mformat(var)\n\u001b[1;32m--> 153\u001b[0m         \u001b[38;5;28;01mraise\u001b[39;00m \u001b[38;5;167;01mValueError\u001b[39;00m(err)\n\u001b[0;32m    155\u001b[0m \u001b[38;5;66;03m# Figure out the plotting orientation\u001b[39;00m\n\u001b[0;32m    156\u001b[0m orient \u001b[38;5;241m=\u001b[39m infer_orient(\n\u001b[0;32m    157\u001b[0m     x, y, orient, require_numeric\u001b[38;5;241m=\u001b[39m\u001b[38;5;28mself\u001b[39m\u001b[38;5;241m.\u001b[39mrequire_numeric\n\u001b[0;32m    158\u001b[0m )\n",
      "\u001b[1;31mValueError\u001b[0m: Could not interpret input 'highest_level_of_education'"
     ]
    }
   ],
   "source": [
    "sns.set(rc={'figure.figsize':(14.7,11.27)})\n",
    "sns.countplot(x=\"highest_level_of_education\", hue=\"placed\", data=df)\n",
    "#plt.xlabel(\"highest_level_of_education\",fontsize=20)\n",
    "#plt.ylabel(\"placed\",fontsize=20)\n",
    "plt.show()"
   ]
  },
  {
   "cell_type": "code",
   "execution_count": null,
   "id": "506848df",
   "metadata": {},
   "outputs": [],
   "source": [
    "df['highest_level_of_education'][df['placed']==1].value_counts()"
   ]
  },
  {
   "cell_type": "code",
   "execution_count": null,
   "id": "e44358be",
   "metadata": {},
   "outputs": [],
   "source": [
    "df['highest_level_of_education'].value_counts()"
   ]
  },
  {
   "cell_type": "code",
   "execution_count": 136,
   "id": "83495feb",
   "metadata": {},
   "outputs": [
    {
     "data": {
      "image/png": "[encoded data removed]",
      "text/plain": [
       "<Figure size 1058.4x811.44 with 1 Axes>"
      ]
     },
     "metadata": {},
     "output_type": "display_data"
    }
   ],
   "source": [
    "sns.set(rc={'figure.figsize':(14.7,11.27)})\n",
    "sns.countplot(x=\"program_duration_days\", hue=\"placed\", data=df)\n",
    "#plt.xlabel(\"highest_level_of_education\",fontsize=20)\n",
    "#plt.ylabel(\"placed\",fontsize=20)\n",
    "plt.show()"
   ]
  },
  {
   "cell_type": "code",
   "execution_count": null,
   "id": "2dd76d60",
   "metadata": {},
   "outputs": [],
   "source": [
    "sns.set(rc={'figure.figsize':(14.7,11.27)})\n",
    "sns.countplot(x=\"gender\", hue=\"placed\", data=df)\n",
    "#plt.xlabel(\"highest_level_of_education\",fontsize=20)\n",
    "#plt.ylabel(\"placed\",fontsize=20)\n",
    "plt.show()"
   ]
  },
  {
   "cell_type": "code",
   "execution_count": 137,
   "id": "a9617abc",
   "metadata": {},
   "outputs": [
    {
     "data": {
      "image/png": "[encoded data removed]",
      "text/plain": [
       "<Figure size 1058.4x811.44 with 1 Axes>"
      ]
     },
     "metadata": {},
     "output_type": "display_data"
    }
   ],
   "source": [
    "sns.set(rc={'figure.figsize':(14.7,11.27)})\n",
    "sns.countplot(x=\"work_authorization_status\", hue=\"placed\", data=df)\n",
    "#plt.xlabel(\"highest_level_of_education\",fontsize=20)\n",
    "#plt.ylabel(\"placed\",fontsize=20)\n",
    "plt.show()"
   ]
  },
  {
   "cell_type": "code",
   "execution_count": null,
   "id": "591fb384",
   "metadata": {},
   "outputs": [],
   "source": [
    "sns.set(rc={'figure.figsize':(14.7,11.27)})\n",
    "sns.countplot(x=\"employment_status\", hue=\"placed\", data=df)\n",
    "#plt.xlabel(\"highest_level_of_education\",fontsize=20)\n",
    "#plt.ylabel(\"placed\",fontsize=20)\n",
    "plt.show()"
   ]
  },
  {
   "cell_type": "code",
   "execution_count": 138,
   "id": "4350cc25",
   "metadata": {},
   "outputs": [
    {
     "data": {
      "image/png": "[encoded data removed]",
      "text/plain": [
       "<Figure size 1058.4x811.44 with 1 Axes>"
      ]
     },
     "metadata": {},
     "output_type": "display_data"
    }
   ],
   "source": [
    "sns.set(rc={'figure.figsize':(14.7,11.27)})\n",
    "sns.countplot(x=\"professional_experience\", hue=\"placed\", data=df)\n",
    "#plt.xlabel(\"highest_level_of_education\",fontsize=20)\n",
    "#plt.ylabel(\"placed\",fontsize=20)\n",
    "plt.show()"
   ]
  },
  {
   "cell_type": "code",
   "execution_count": 139,
   "id": "098b6634",
   "metadata": {},
   "outputs": [
    {
     "data": {
      "text/plain": [
       "<seaborn.axisgrid.PairGrid at 0x23dcd06d870>"
      ]
     },
     "execution_count": 139,
     "metadata": {},
     "output_type": "execute_result"
    },
    {
     "data": {
      "image/png": "[encoded data removed]",
      "text/plain": [
       "<Figure size 720x720 with 20 Axes>"
      ]
     },
     "metadata": {},
     "output_type": "display_data"
    }
   ],
   "source": [
    "sns.pairplot(df)"
   ]
  },
  {
   "cell_type": "code",
   "execution_count": 140,
   "id": "703d5b0f",
   "metadata": {},
   "outputs": [
    {
     "ename": "KeyError",
     "evalue": "\"None of [Index(['column_1', 'column_2', 'column_3'], dtype='object')] are in the [columns]\"",
     "output_type": "error",
     "traceback": [
      "\u001b[1;31m---------------------------------------------------------------------------\u001b[0m",
      "\u001b[1;31mKeyError\u001b[0m                                  Traceback (most recent call last)",
      "Input \u001b[1;32mIn [140]\u001b[0m, in \u001b[0;36m<cell line: 2>\u001b[1;34m()\u001b[0m\n\u001b[0;32m      1\u001b[0m \u001b[38;5;66;03m#note:for more that one coloum keep ading in the list \u001b[39;00m\n\u001b[1;32m----> 2\u001b[0m dummies \u001b[38;5;241m=\u001b[39m pd\u001b[38;5;241m.\u001b[39mget_dummies(\u001b[43mdf\u001b[49m\u001b[43m[\u001b[49m\u001b[43m[\u001b[49m\u001b[38;5;124;43m'\u001b[39;49m\u001b[38;5;124;43mcolumn_1\u001b[39;49m\u001b[38;5;124;43m'\u001b[39;49m\u001b[43m,\u001b[49m\u001b[43m \u001b[49m\u001b[38;5;124;43m'\u001b[39;49m\u001b[38;5;124;43mcolumn_2\u001b[39;49m\u001b[38;5;124;43m'\u001b[39;49m\u001b[43m,\u001b[49m\u001b[38;5;124;43m'\u001b[39;49m\u001b[38;5;124;43mcolumn_3\u001b[39;49m\u001b[38;5;124;43m'\u001b[39;49m\u001b[43m]\u001b[49m\u001b[43m]\u001b[49m, drop_first\u001b[38;5;241m=\u001b[39m\u001b[38;5;28;01mTrue\u001b[39;00m)\n\u001b[0;32m      3\u001b[0m df \u001b[38;5;241m=\u001b[39m pd\u001b[38;5;241m.\u001b[39mconcat([df\u001b[38;5;241m.\u001b[39mdrop([\u001b[38;5;124m'\u001b[39m\u001b[38;5;124mcolumn_1\u001b[39m\u001b[38;5;124m'\u001b[39m, \u001b[38;5;124m'\u001b[39m\u001b[38;5;124mcolumn_1\u001b[39m\u001b[38;5;124m'\u001b[39m],axis\u001b[38;5;241m=\u001b[39m\u001b[38;5;241m1\u001b[39m), dummies],axis\u001b[38;5;241m=\u001b[39m\u001b[38;5;241m1\u001b[39m)\n",
      "File \u001b[1;32mE:\\Program Files\\python\\lib\\site-packages\\pandas\\core\\frame.py:3511\u001b[0m, in \u001b[0;36mDataFrame.__getitem__\u001b[1;34m(self, key)\u001b[0m\n\u001b[0;32m   3509\u001b[0m     \u001b[38;5;28;01mif\u001b[39;00m is_iterator(key):\n\u001b[0;32m   3510\u001b[0m         key \u001b[38;5;241m=\u001b[39m \u001b[38;5;28mlist\u001b[39m(key)\n\u001b[1;32m-> 3511\u001b[0m     indexer \u001b[38;5;241m=\u001b[39m \u001b[38;5;28;43mself\u001b[39;49m\u001b[38;5;241;43m.\u001b[39;49m\u001b[43mcolumns\u001b[49m\u001b[38;5;241;43m.\u001b[39;49m\u001b[43m_get_indexer_strict\u001b[49m\u001b[43m(\u001b[49m\u001b[43mkey\u001b[49m\u001b[43m,\u001b[49m\u001b[43m \u001b[49m\u001b[38;5;124;43m\"\u001b[39;49m\u001b[38;5;124;43mcolumns\u001b[39;49m\u001b[38;5;124;43m\"\u001b[39;49m\u001b[43m)\u001b[49m[\u001b[38;5;241m1\u001b[39m]\n\u001b[0;32m   3513\u001b[0m \u001b[38;5;66;03m# take() does not accept boolean indexers\u001b[39;00m\n\u001b[0;32m   3514\u001b[0m \u001b[38;5;28;01mif\u001b[39;00m \u001b[38;5;28mgetattr\u001b[39m(indexer, \u001b[38;5;124m\"\u001b[39m\u001b[38;5;124mdtype\u001b[39m\u001b[38;5;124m\"\u001b[39m, \u001b[38;5;28;01mNone\u001b[39;00m) \u001b[38;5;241m==\u001b[39m \u001b[38;5;28mbool\u001b[39m:\n",
      "File \u001b[1;32mE:\\Program Files\\python\\lib\\site-packages\\pandas\\core\\indexes\\base.py:5782\u001b[0m, in \u001b[0;36mIndex._get_indexer_strict\u001b[1;34m(self, key, axis_name)\u001b[0m\n\u001b[0;32m   5779\u001b[0m \u001b[38;5;28;01melse\u001b[39;00m:\n\u001b[0;32m   5780\u001b[0m     keyarr, indexer, new_indexer \u001b[38;5;241m=\u001b[39m \u001b[38;5;28mself\u001b[39m\u001b[38;5;241m.\u001b[39m_reindex_non_unique(keyarr)\n\u001b[1;32m-> 5782\u001b[0m \u001b[38;5;28;43mself\u001b[39;49m\u001b[38;5;241;43m.\u001b[39;49m\u001b[43m_raise_if_missing\u001b[49m\u001b[43m(\u001b[49m\u001b[43mkeyarr\u001b[49m\u001b[43m,\u001b[49m\u001b[43m \u001b[49m\u001b[43mindexer\u001b[49m\u001b[43m,\u001b[49m\u001b[43m \u001b[49m\u001b[43maxis_name\u001b[49m\u001b[43m)\u001b[49m\n\u001b[0;32m   5784\u001b[0m keyarr \u001b[38;5;241m=\u001b[39m \u001b[38;5;28mself\u001b[39m\u001b[38;5;241m.\u001b[39mtake(indexer)\n\u001b[0;32m   5785\u001b[0m \u001b[38;5;28;01mif\u001b[39;00m \u001b[38;5;28misinstance\u001b[39m(key, Index):\n\u001b[0;32m   5786\u001b[0m     \u001b[38;5;66;03m# GH 42790 - Preserve name from an Index\u001b[39;00m\n",
      "File \u001b[1;32mE:\\Program Files\\python\\lib\\site-packages\\pandas\\core\\indexes\\base.py:5842\u001b[0m, in \u001b[0;36mIndex._raise_if_missing\u001b[1;34m(self, key, indexer, axis_name)\u001b[0m\n\u001b[0;32m   5840\u001b[0m     \u001b[38;5;28;01mif\u001b[39;00m use_interval_msg:\n\u001b[0;32m   5841\u001b[0m         key \u001b[38;5;241m=\u001b[39m \u001b[38;5;28mlist\u001b[39m(key)\n\u001b[1;32m-> 5842\u001b[0m     \u001b[38;5;28;01mraise\u001b[39;00m \u001b[38;5;167;01mKeyError\u001b[39;00m(\u001b[38;5;124mf\u001b[39m\u001b[38;5;124m\"\u001b[39m\u001b[38;5;124mNone of [\u001b[39m\u001b[38;5;132;01m{\u001b[39;00mkey\u001b[38;5;132;01m}\u001b[39;00m\u001b[38;5;124m] are in the [\u001b[39m\u001b[38;5;132;01m{\u001b[39;00maxis_name\u001b[38;5;132;01m}\u001b[39;00m\u001b[38;5;124m]\u001b[39m\u001b[38;5;124m\"\u001b[39m)\n\u001b[0;32m   5844\u001b[0m not_found \u001b[38;5;241m=\u001b[39m \u001b[38;5;28mlist\u001b[39m(ensure_index(key)[missing_mask\u001b[38;5;241m.\u001b[39mnonzero()[\u001b[38;5;241m0\u001b[39m]]\u001b[38;5;241m.\u001b[39munique())\n\u001b[0;32m   5845\u001b[0m \u001b[38;5;28;01mraise\u001b[39;00m \u001b[38;5;167;01mKeyError\u001b[39;00m(\u001b[38;5;124mf\u001b[39m\u001b[38;5;124m\"\u001b[39m\u001b[38;5;132;01m{\u001b[39;00mnot_found\u001b[38;5;132;01m}\u001b[39;00m\u001b[38;5;124m not in index\u001b[39m\u001b[38;5;124m\"\u001b[39m)\n",
      "\u001b[1;31mKeyError\u001b[0m: \"None of [Index(['column_1', 'column_2', 'column_3'], dtype='object')] are in the [columns]\""
     ]
    }
   ],
   "source": [
    "#note:for more that one coloum keep ading in the list \n",
    "dummies = pd.get_dummies(df[['column_1', 'column_2','column_3']], drop_first=True)\n",
    "df = pd.concat([df.drop(['column_1', 'column_1'],axis=1), dummies],axis=1)"
   ]
  },
  {
   "cell_type": "code",
   "execution_count": null,
   "id": "50757eef",
   "metadata": {},
   "outputs": [],
   "source": []
  }
 ],
 "metadata": {
  "kernelspec": {
   "display_name": "Python 3 (ipykernel)",
   "language": "python",
   "name": "python3"
  },
  "language_info": {
   "codemirror_mode": {
    "name": "ipython",
    "version": 3
   },
   "file_extension": ".py",
   "mimetype": "text/x-python",
   "name": "python",
   "nbconvert_exporter": "python",
   "pygments_lexer": "ipython3",
   "version": "3.10.5"
  }
 },
 "nbformat": 4,
 "nbformat_minor": 5
}
